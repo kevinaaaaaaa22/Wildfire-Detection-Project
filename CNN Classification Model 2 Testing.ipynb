{
 "cells": [
  {
   "cell_type": "code",
   "execution_count": 1,
   "metadata": {},
   "outputs": [
    {
     "name": "stdout",
     "output_type": "stream",
     "text": [
      "TensorFlow version: 2.2.0\n"
     ]
    }
   ],
   "source": [
    "import tensorflow as tf\n",
    "print (\"TensorFlow version: \" + tf.__version__)\n",
    "import keras\n",
    "from keras.layers import Conv2D, MaxPooling2D, Dense, Flatten, Dropout\n",
    "import numpy as np\n",
    "from keras import layers\n",
    "from keras.models import Model\n",
    "from keras.models import load_model\n",
    "from keras.layers.core import Dense, Dropout, Activation, Reshape\n",
    "from keras import callbacks\n"
   ]
  },
  {
   "cell_type": "code",
   "execution_count": 2,
   "metadata": {},
   "outputs": [],
   "source": [
    "test = np.zeros((212, 6, 340, 444))\n",
    "with open(\"C:\\\\Users\\\\yangz\\\\Desktop\\\\FireProjectBatchDownloadNew\\\\DetectionDatasetFinal\\\\Testing_1696-1908.npy\", 'rb') as f1:\n",
    "        test = np.load(f1)\n",
    "        "
   ]
  },
  {
   "cell_type": "code",
   "execution_count": 3,
   "metadata": {},
   "outputs": [],
   "source": [
    "test = np.reshape(test, (212, 340, 444, 6))\n",
    "yTest = np.zeros((212))\n",
    "for i in range (212):\n",
    "    if (i%2==0):\n",
    "        yTest[i] = 0\n",
    "    else:\n",
    "        yTest[i] = 1\n"
   ]
  },
  {
   "cell_type": "code",
   "execution_count": 4,
   "metadata": {},
   "outputs": [
    {
     "name": "stdout",
     "output_type": "stream",
     "text": [
      "(212, 340, 444, 6)\n"
     ]
    }
   ],
   "source": [
    "print (test.shape)\n",
    "img_shape = (340, 444, 6)\n"
   ]
  },
  {
   "cell_type": "code",
   "execution_count": 5,
   "metadata": {},
   "outputs": [],
   "source": [
    "img = layers.Input(shape=img_shape)\n",
    "\n",
    "conv1 = layers.Conv2D(64, (5, 5), padding='same', activation='relu', strides=5)(img)\n",
    "bn1 = layers.BatchNormalization()(conv1)\n",
    "maxPooling1 = layers.MaxPooling2D(padding='same')(bn1)\n",
    "\n",
    "conv2 = layers.Conv2D(32, (5, 5), padding='same', activation='elu', strides=5)(maxPooling1)\n",
    "bn2 = layers.BatchNormalization()(conv2)\n",
    "maxPooling2 = layers.MaxPooling2D(padding='same')(bn2)\n",
    "\n",
    "conv3 = layers.Conv2D(32, (3, 3), padding='same', activation='elu', strides=3)(maxPooling2)\n",
    "bn3 = layers.BatchNormalization()(conv3)\n",
    "maxPooling3 = layers.MaxPooling2D(padding='same')(bn3)\n",
    "\n",
    "conv4 = layers.Conv2D(64, (3, 3), padding='same', activation='elu', strides=3)(maxPooling3)\n",
    "bn4 = layers.BatchNormalization()(conv4)\n",
    "maxPooling4 = layers.MaxPooling2D(padding='same')(bn4)\n",
    "\n",
    "conv5 = layers.Conv2D(128, (3, 3), padding='same', activation='elu', strides=3)(maxPooling4)\n",
    "maxPooling5 = layers.MaxPooling2D(padding='same')(conv5)\n",
    "\n",
    "flatten = layers.Flatten()(maxPooling5)\n",
    "\n",
    "dense1 = layers.Dense(128, activation = \"relu\")(flatten)\n",
    "drop2 = layers.Dropout(0.5)(dense1)\n",
    "res = layers.Dense(1, activation='sigmoid')(drop2)\n",
    "\n",
    "model = Model(img, res)\n",
    "opt = tf.keras.optimizers.RMSprop(learning_rate=1e-4)\n",
    "model.compile(optimizer = opt, loss = 'binary_crossentropy', metrics = ['accuracy'])\n"
   ]
  },
  {
   "cell_type": "code",
   "execution_count": 6,
   "metadata": {},
   "outputs": [],
   "source": [
    "model.load_weights(\"Model2TrainingB-V2.hdf5\")\n"
   ]
  },
  {
   "cell_type": "code",
   "execution_count": 7,
   "metadata": {},
   "outputs": [],
   "source": [
    "yPred = model.predict(test)\n"
   ]
  },
  {
   "cell_type": "code",
   "execution_count": 8,
   "metadata": {},
   "outputs": [],
   "source": [
    "yPred[yPred>=0.5] = 1\n",
    "yPred[yPred<0.5] = 0\n",
    "yPred = yPred.astype(int)\n"
   ]
  },
  {
   "cell_type": "code",
   "execution_count": 9,
   "metadata": {},
   "outputs": [
    {
     "name": "stdout",
     "output_type": "stream",
     "text": [
      "[0 0 1 1 0 1 1 1 1 1 0 1 0 1 0 1 0 1 0 1 1 1 1 1 0 1 0 0 0 1 0 1 1 1 0 1 0\n",
      " 0 1 1 0 1 0 1 0 1 0 1 1 1 0 1 1 1 0 0 0 0 1 1 0 1 0 0 1 1 1 1 0 0 1 0 0 1\n",
      " 1 1 1 1 0 1 0 1 0 0 1 1 1 1 0 1 0 1 0 1 0 1 0 1 1 1 0 0 0 1 0 0 1 0 1 1 0\n",
      " 1 0 0 1 1 0 1 1 1 0 1 0 0 0 1 1 1 0 1 1 1 0 1 0 0 0 1 0 0 0 1 0 1 0 1 0 1\n",
      " 0 0 0 1 0 1 0 0 0 1 0 1 0 1 1 0 0 1 0 1 0 1 0 0 0 1 0 1 0 1 1 1 0 0 0 1 0\n",
      " 0 0 1 0 1 0 1 0 1 0 1 1 1 0 1 0 1 0 1 0 0 0 1 0 0 1 0]\n"
     ]
    }
   ],
   "source": [
    "yPred = yPred.flatten()\n",
    "print (yPred)\n"
   ]
  },
  {
   "cell_type": "code",
   "execution_count": 10,
   "metadata": {},
   "outputs": [
    {
     "name": "stdout",
     "output_type": "stream",
     "text": [
      "0.75\n"
     ]
    }
   ],
   "source": [
    "correct = 0\n",
    "for i in range (212):\n",
    "    if (yPred[i]==yTest[i]):\n",
    "        correct+=1\n",
    "        \n",
    "print (correct/212)\n"
   ]
  },
  {
   "cell_type": "code",
   "execution_count": null,
   "metadata": {},
   "outputs": [],
   "source": []
  }
 ],
 "metadata": {
  "kernelspec": {
   "display_name": "Python 3",
   "language": "python",
   "name": "python3"
  },
  "language_info": {
   "codemirror_mode": {
    "name": "ipython",
    "version": 3
   },
   "file_extension": ".py",
   "mimetype": "text/x-python",
   "name": "python",
   "nbconvert_exporter": "python",
   "pygments_lexer": "ipython3",
   "version": "3.8.4"
  }
 },
 "nbformat": 4,
 "nbformat_minor": 4
}
