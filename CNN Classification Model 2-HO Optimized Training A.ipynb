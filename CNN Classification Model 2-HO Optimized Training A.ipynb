{
 "cells": [
  {
   "cell_type": "code",
   "execution_count": 1,
   "metadata": {},
   "outputs": [
    {
     "name": "stdout",
     "output_type": "stream",
     "text": [
      "TensorFlow version: 2.2.0\n"
     ]
    }
   ],
   "source": [
    "import tensorflow as tf\n",
    "print (\"TensorFlow version: \" + tf.__version__)\n",
    "import keras\n",
    "from keras.layers import Conv2D, MaxPooling2D, Dense, Flatten, Dropout\n",
    "import numpy as np\n",
    "from keras import layers\n",
    "from keras.models import Model\n",
    "from keras.models import load_model\n",
    "from keras.layers.core import Dense, Dropout, Activation, Reshape\n",
    "from keras import callbacks"
   ]
  },
  {
   "cell_type": "code",
   "execution_count": 2,
   "metadata": {},
   "outputs": [],
   "source": [
    "xTemp = np.zeros((1060, 6, 340, 444))\n",
    "with open(\"C:\\\\Users\\\\yangz\\\\Desktop\\\\FireProjectBatchDownloadNew\\\\DetectionDatasetFinal\\\\TrainingA_1-1060.npy\", 'rb') as f1:\n",
    "        xTemp = np.load(f1)"
   ]
  },
  {
   "cell_type": "code",
   "execution_count": 3,
   "metadata": {},
   "outputs": [],
   "source": [
    "yTemp = np.zeros((1060))\n",
    "for i in range (1060):\n",
    "    if (i%2==0):\n",
    "        yTemp[i] = 0\n",
    "    else:\n",
    "        yTemp[i] = 1"
   ]
  },
  {
   "cell_type": "code",
   "execution_count": 4,
   "metadata": {},
   "outputs": [],
   "source": [
    "x = np.zeros((1060, 6, 340, 444))\n",
    "y = np.zeros((1060))\n",
    "\n",
    "permutations = np.random.permutation(1060)\n",
    "for i in range (1060):\n",
    "    x[i] = xTemp[permutations[i]]\n",
    "    y[i] = yTemp[permutations[i]]"
   ]
  },
  {
   "cell_type": "code",
   "execution_count": 5,
   "metadata": {},
   "outputs": [],
   "source": [
    "x = np.reshape(x, (1060, 340, 444, 6))\n",
    "y = y.astype(int)\n",
    "img_shape = (340, 444, 6)"
   ]
  },
  {
   "cell_type": "code",
   "execution_count": 6,
   "metadata": {},
   "outputs": [],
   "source": [
    "unitsChoices = [16, 32, 64, 128, 256]\n",
    "poolSizes = [3, 5]\n",
    "batchSizes = [4, 8, 16, 32]\n",
    "nbEpochs = [9, 10, 11, 12]\n",
    "learnRates = [1e-3, 1e-4, 1e-5]"
   ]
  },
  {
   "cell_type": "code",
   "execution_count": 7,
   "metadata": {},
   "outputs": [
    {
     "name": "stdout",
     "output_type": "stream",
     "text": [
      "Epoch 1/12\n",
      "265/265 [==============================] - 61s 231ms/step - loss: 0.6832 - accuracy: 0.5368\n",
      "Epoch 2/12\n",
      "265/265 [==============================] - 50s 189ms/step - loss: 0.6561 - accuracy: 0.5925\n",
      "Epoch 3/12\n",
      "265/265 [==============================] - 48s 181ms/step - loss: 0.6345 - accuracy: 0.6311\n",
      "Epoch 4/12\n",
      "265/265 [==============================] - 48s 183ms/step - loss: 0.6169 - accuracy: 0.6679\n",
      "Epoch 5/12\n",
      "265/265 [==============================] - 49s 183ms/step - loss: 0.5952 - accuracy: 0.6887\n",
      "Epoch 6/12\n",
      "265/265 [==============================] - 49s 185ms/step - loss: 0.5837 - accuracy: 0.6896\n",
      "Epoch 7/12\n",
      "265/265 [==============================] - 49s 185ms/step - loss: 0.5466 - accuracy: 0.7264\n",
      "Epoch 8/12\n",
      "265/265 [==============================] - 49s 186ms/step - loss: 0.5255 - accuracy: 0.7425\n",
      "Epoch 9/12\n",
      "265/265 [==============================] - 50s 187ms/step - loss: 0.4875 - accuracy: 0.7858\n",
      "Epoch 10/12\n",
      "265/265 [==============================] - 50s 187ms/step - loss: 0.4910 - accuracy: 0.7689\n",
      "Epoch 11/12\n",
      "265/265 [==============================] - 49s 184ms/step - loss: 0.4484 - accuracy: 0.7991\n",
      "Epoch 12/12\n",
      "265/265 [==============================] - 50s 187ms/step - loss: 0.4298 - accuracy: 0.8160\n"
     ]
    }
   ],
   "source": [
    "img = layers.Input(shape=img_shape)\n",
    "\n",
    "conv1 = layers.Conv2D(unitsChoices[4], (poolSizes[1], poolSizes[1]), padding='same', activation='relu', strides=5)(img)\n",
    "bn1 = layers.BatchNormalization()(conv1)\n",
    "maxPooling1 = layers.MaxPooling2D(padding='same')(bn1)\n",
    "\n",
    "conv2 = layers.Conv2D(unitsChoices[2], (poolSizes[1], poolSizes[1]), padding='same', activation='elu', strides=5)(maxPooling1)\n",
    "bn2 = layers.BatchNormalization()(conv2)\n",
    "maxPooling2 = layers.MaxPooling2D(padding='same')(bn2)\n",
    "\n",
    "conv3 = layers.Conv2D(unitsChoices[2], (poolSizes[1], poolSizes[1]), padding='same', activation='elu', strides=3)(maxPooling2)\n",
    "bn3 = layers.BatchNormalization()(conv3)\n",
    "maxPooling3 = layers.MaxPooling2D(padding='same')(bn3)\n",
    "\n",
    "conv4 = layers.Conv2D(unitsChoices[4], (poolSizes[0], poolSizes[0]), padding='same', activation='elu', strides=3)(maxPooling3)\n",
    "bn4 = layers.BatchNormalization()(conv4)\n",
    "maxPooling4 = layers.MaxPooling2D(padding='same')(bn4)\n",
    "\n",
    "conv5 = layers.Conv2D(unitsChoices[1], (poolSizes[0], poolSizes[0]), padding='same', activation='elu', strides=3)(maxPooling4)\n",
    "maxPooling5 = layers.MaxPooling2D(padding='same')(conv5)\n",
    "\n",
    "flatten = layers.Flatten()(maxPooling5)\n",
    "\n",
    "dense1 = layers.Dense(unitsChoices[4], activation = \"relu\")(flatten)\n",
    "drop2 = layers.Dropout(0.5420313649456072)(dense1)\n",
    "res = layers.Dense(1, activation='sigmoid')(drop2)\n",
    "\n",
    "model = Model(img, res)\n",
    "opt = tf.keras.optimizers.RMSprop(learning_rate=learnRates[2])\n",
    "model.compile(optimizer = opt, loss = 'binary_crossentropy', metrics = ['accuracy'])\n",
    "\n",
    "history = model.fit(x, y, batch_size = batchSizes[0], epochs = nbEpochs[3])\n"
   ]
  },
  {
   "cell_type": "code",
   "execution_count": 11,
   "metadata": {},
   "outputs": [],
   "source": [
    "model.save_weights(\"Model2TrainingA-HO-V2.hdf5\")"
   ]
  },
  {
   "cell_type": "code",
   "execution_count": 12,
   "metadata": {},
   "outputs": [
    {
     "data": {
      "text/plain": [
       "[<matplotlib.lines.Line2D at 0x1c751ceabe0>]"
      ]
     },
     "execution_count": 12,
     "metadata": {},
     "output_type": "execute_result"
    },
    {
     "data": {
      "image/png": "[encoded data removed]",
      "text/plain": [
       "<Figure size 432x288 with 1 Axes>"
      ]
     },
     "metadata": {
      "needs_background": "light"
     },
     "output_type": "display_data"
    }
   ],
   "source": [
    "from matplotlib import pyplot as plt\n",
    "plt.title('model loss')\n",
    "plt.ylabel('loss')\n",
    "plt.xlabel('epoch')\n",
    "plt.plot(history.history['loss'])"
   ]
  },
  {
   "cell_type": "code",
   "execution_count": 13,
   "metadata": {},
   "outputs": [
    {
     "name": "stdout",
     "output_type": "stream",
     "text": [
      "Model: \"model\"\n",
      "_________________________________________________________________\n",
      "Layer (type)                 Output Shape              Param #   \n",
      "=================================================================\n",
      "input_1 (InputLayer)         [(None, 340, 444, 6)]     0         \n",
      "_________________________________________________________________\n",
      "conv2d (Conv2D)              (None, 68, 89, 256)       38656     \n",
      "_________________________________________________________________\n",
      "batch_normalization (BatchNo (None, 68, 89, 256)       1024      \n",
      "_________________________________________________________________\n",
      "max_pooling2d (MaxPooling2D) (None, 34, 45, 256)       0         \n",
      "_________________________________________________________________\n",
      "conv2d_1 (Conv2D)            (None, 7, 9, 64)          409664    \n",
      "_________________________________________________________________\n",
      "batch_normalization_1 (Batch (None, 7, 9, 64)          256       \n",
      "_________________________________________________________________\n",
      "max_pooling2d_1 (MaxPooling2 (None, 4, 5, 64)          0         \n",
      "_________________________________________________________________\n",
      "conv2d_2 (Conv2D)            (None, 2, 2, 64)          102464    \n",
      "_________________________________________________________________\n",
      "batch_normalization_2 (Batch (None, 2, 2, 64)          256       \n",
      "_________________________________________________________________\n",
      "max_pooling2d_2 (MaxPooling2 (None, 1, 1, 64)          0         \n",
      "_________________________________________________________________\n",
      "conv2d_3 (Conv2D)            (None, 1, 1, 256)         147712    \n",
      "_________________________________________________________________\n",
      "batch_normalization_3 (Batch (None, 1, 1, 256)         1024      \n",
      "_________________________________________________________________\n",
      "max_pooling2d_3 (MaxPooling2 (None, 1, 1, 256)         0         \n",
      "_________________________________________________________________\n",
      "conv2d_4 (Conv2D)            (None, 1, 1, 32)          73760     \n",
      "_________________________________________________________________\n",
      "max_pooling2d_4 (MaxPooling2 (None, 1, 1, 32)          0         \n",
      "_________________________________________________________________\n",
      "flatten (Flatten)            (None, 32)                0         \n",
      "_________________________________________________________________\n",
      "dense (Dense)                (None, 256)               8448      \n",
      "_________________________________________________________________\n",
      "dropout (Dropout)            (None, 256)               0         \n",
      "_________________________________________________________________\n",
      "dense_1 (Dense)              (None, 1)                 257       \n",
      "=================================================================\n",
      "Total params: 783,521\n",
      "Trainable params: 782,241\n",
      "Non-trainable params: 1,280\n",
      "_________________________________________________________________\n",
      "None\n"
     ]
    }
   ],
   "source": [
    "print(model.summary())"
   ]
  },
  {
   "cell_type": "code",
   "execution_count": null,
   "metadata": {},
   "outputs": [],
   "source": []
  }
 ],
 "metadata": {
  "kernelspec": {
   "display_name": "Python 3",
   "language": "python",
   "name": "python3"
  },
  "language_info": {
   "codemirror_mode": {
    "name": "ipython",
    "version": 3
   },
   "file_extension": ".py",
   "mimetype": "text/x-python",
   "name": "python",
   "nbconvert_exporter": "python",
   "pygments_lexer": "ipython3",
   "version": "3.8.4"
  }
 },
 "nbformat": 4,
 "nbformat_minor": 4
}
