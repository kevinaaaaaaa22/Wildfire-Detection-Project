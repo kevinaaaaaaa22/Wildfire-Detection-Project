{
 "cells": [
  {
   "cell_type": "code",
   "execution_count": 1,
   "metadata": {},
   "outputs": [
    {
     "name": "stdout",
     "output_type": "stream",
     "text": [
      "TensorFlow version: 2.2.0\n"
     ]
    }
   ],
   "source": [
    "import tensorflow as tf\n",
    "print (\"TensorFlow version: \" + tf.__version__)\n",
    "import keras\n",
    "from keras.layers import Conv2D, MaxPooling2D, Dense, Flatten, Dropout\n",
    "import numpy as np\n",
    "from keras import layers\n",
    "from keras.models import Model\n",
    "from keras.models import load_model\n",
    "from keras.layers.core import Dense, Dropout, Activation, Reshape\n",
    "from keras import callbacks\n"
   ]
  },
  {
   "cell_type": "code",
   "execution_count": 2,
   "metadata": {},
   "outputs": [],
   "source": [
    "xTemp = np.zeros((636, 6, 340, 444))\n",
    "with open(\"C:\\\\Users\\\\yangz\\\\Desktop\\\\FireProjectBatchDownloadNew\\\\DetectionDatasetFinal\\\\TrainingB_1060-1696.npy\", 'rb') as f1:\n",
    "        xTemp = np.load(f1)"
   ]
  },
  {
   "cell_type": "code",
   "execution_count": 3,
   "metadata": {},
   "outputs": [],
   "source": [
    "validation = np.zeros((212, 6, 340, 444))\n",
    "with open(\"C:\\\\Users\\\\yangz\\\\Desktop\\\\FireProjectBatchDownloadNew\\\\DetectionDatasetFinal\\\\Validation_1908-2120.npy\", 'rb') as f1:\n",
    "        validation = np.load(f1)"
   ]
  },
  {
   "cell_type": "code",
   "execution_count": 4,
   "metadata": {},
   "outputs": [],
   "source": [
    "yTemp = np.zeros((636))\n",
    "for i in range (636):\n",
    "    if (i%2==0):\n",
    "        yTemp[i] = 0\n",
    "    else:\n",
    "        yTemp[i] = 1"
   ]
  },
  {
   "cell_type": "code",
   "execution_count": 5,
   "metadata": {},
   "outputs": [],
   "source": [
    "yValidation = np.zeros((212))\n",
    "for i in range (212):\n",
    "    if (i%2==0):\n",
    "        yValidation[i] = 0\n",
    "    else:\n",
    "        yValidation[i] = 1"
   ]
  },
  {
   "cell_type": "code",
   "execution_count": 6,
   "metadata": {},
   "outputs": [],
   "source": [
    "x = np.zeros((848, 6, 340, 444))\n",
    "y = np.zeros((848))\n",
    "\n",
    "permutations = np.random.permutation(848)\n",
    "for i in range (848):\n",
    "    if (permutations[i] < 636):\n",
    "        x[i] = xTemp[permutations[i]]\n",
    "        y[i] = yTemp[permutations[i]]\n",
    "    else: \n",
    "        x[i] = validation[permutations[i]-636]\n",
    "        y[i] = yValidation[permutations[i]-636]"
   ]
  },
  {
   "cell_type": "code",
   "execution_count": 7,
   "metadata": {},
   "outputs": [],
   "source": [
    "x = np.reshape(x, (848, 340, 444, 6))"
   ]
  },
  {
   "cell_type": "code",
   "execution_count": 8,
   "metadata": {},
   "outputs": [],
   "source": [
    "y = y.astype(int)"
   ]
  },
  {
   "cell_type": "code",
   "execution_count": 9,
   "metadata": {},
   "outputs": [],
   "source": [
    "img_shape = (340, 444, 6)"
   ]
  },
  {
   "cell_type": "code",
   "execution_count": 10,
   "metadata": {},
   "outputs": [],
   "source": [
    "unitsChoices = [16, 32, 64, 128, 256]\n",
    "poolSizes = [3, 5]\n",
    "batchSizes = [4, 8, 16, 32]\n",
    "nbEpochs = [7, 8, 9]\n",
    "learnRates = [1e-3, 1e-4, 1e-5]"
   ]
  },
  {
   "cell_type": "code",
   "execution_count": 11,
   "metadata": {},
   "outputs": [],
   "source": [
    "img = layers.Input(shape=img_shape)\n",
    "\n",
    "bn1 = layers.BatchNormalization()(img)\n",
    "conv1 = layers.Conv2D(unitsChoices[0], (poolSizes[1], poolSizes[1]), padding='same', activation='relu', strides=5)(bn1)\n",
    "maxPooling1 = layers.MaxPooling2D(padding='same')(conv1)\n",
    "\n",
    "bn2 = layers.BatchNormalization()(maxPooling1)\n",
    "conv2 = layers.Conv2D(unitsChoices[3], (poolSizes[1], poolSizes[1]), padding='same', activation='elu', strides=3)(bn2)\n",
    "maxPooling2 = layers.MaxPooling2D(padding='same')(conv2)\n",
    "\n",
    "bn3 = layers.BatchNormalization()(maxPooling2)\n",
    "conv3 = layers.Conv2D(unitsChoices[1], (poolSizes[0], poolSizes[0]), padding='same', activation='elu', strides=3)(bn3)\n",
    "maxPooling3 = layers.MaxPooling2D(padding='same')(conv3)\n",
    "\n",
    "bn4 = layers.BatchNormalization()(maxPooling3)\n",
    "conv4 = layers.Conv2D(unitsChoices[0], (poolSizes[1], poolSizes[1]), padding='same', activation='elu', strides=3)(bn4)\n",
    "\n",
    "flatten = layers.Flatten()(conv4)\n",
    "\n",
    "dense1 = layers.Dense(unitsChoices[1], activation = \"relu\")(flatten)\n",
    "drop = layers.Dropout(0.3593679575835619)(dense1)\n",
    "res = layers.Dense(1, activation='sigmoid')(drop)\n",
    "\n",
    "model = Model(img, res)\n",
    "opt = tf.keras.optimizers.Adam(learning_rate=learnRates[1])\n",
    "model.compile(optimizer = opt, loss = 'binary_crossentropy', metrics = ['accuracy'])"
   ]
  },
  {
   "cell_type": "code",
   "execution_count": 12,
   "metadata": {},
   "outputs": [],
   "source": [
    "model.load_weights(\"Model1TrainingA-HO-V3.hdf5\")"
   ]
  },
  {
   "cell_type": "code",
   "execution_count": 13,
   "metadata": {},
   "outputs": [
    {
     "name": "stdout",
     "output_type": "stream",
     "text": [
      "Epoch 1/8\n",
      "53/53 [==============================] - 34s 641ms/step - loss: 0.4607 - accuracy: 0.7842\n",
      "Epoch 2/8\n",
      "53/53 [==============================] - 34s 634ms/step - loss: 0.3724 - accuracy: 0.8432\n",
      "Epoch 3/8\n",
      "53/53 [==============================] - 34s 637ms/step - loss: 0.3034 - accuracy: 0.8915\n",
      "Epoch 4/8\n",
      "53/53 [==============================] - 34s 633ms/step - loss: 0.2620 - accuracy: 0.9080\n",
      "Epoch 5/8\n",
      "53/53 [==============================] - 34s 636ms/step - loss: 0.2087 - accuracy: 0.9458\n",
      "Epoch 6/8\n",
      "53/53 [==============================] - 34s 636ms/step - loss: 0.1717 - accuracy: 0.9670\n",
      "Epoch 7/8\n",
      "53/53 [==============================] - 34s 647ms/step - loss: 0.1347 - accuracy: 0.9752\n",
      "Epoch 8/8\n",
      "53/53 [==============================] - 33s 628ms/step - loss: 0.1039 - accuracy: 0.9906\n"
     ]
    }
   ],
   "source": [
    "history = model.fit(x, y, batch_size = batchSizes[2], epochs = nbEpochs[1])"
   ]
  },
  {
   "cell_type": "code",
   "execution_count": 14,
   "metadata": {},
   "outputs": [],
   "source": [
    "model.save_weights(\"Model1TrainingB-HO-V3.hdf5\")"
   ]
  },
  {
   "cell_type": "code",
   "execution_count": 17,
   "metadata": {},
   "outputs": [
    {
     "data": {
      "text/plain": [
       "[<matplotlib.lines.Line2D at 0x1afb0732e80>]"
      ]
     },
     "execution_count": 17,
     "metadata": {},
     "output_type": "execute_result"
    },
    {
     "data": {
      "image/png": "[encoded data removed]",
      "text/plain": [
       "<Figure size 432x288 with 1 Axes>"
      ]
     },
     "metadata": {
      "needs_background": "light"
     },
     "output_type": "display_data"
    }
   ],
   "source": [
    "from matplotlib import pyplot as plt\n",
    "plt.title('model loss')\n",
    "plt.ylabel('loss')\n",
    "plt.xlabel('epoch')\n",
    "plt.plot(history.history['loss'])"
   ]
  },
  {
   "cell_type": "code",
   "execution_count": 18,
   "metadata": {},
   "outputs": [
    {
     "name": "stdout",
     "output_type": "stream",
     "text": [
      "Model: \"model\"\n",
      "_________________________________________________________________\n",
      "Layer (type)                 Output Shape              Param #   \n",
      "=================================================================\n",
      "input_1 (InputLayer)         [(None, 340, 444, 6)]     0         \n",
      "_________________________________________________________________\n",
      "batch_normalization (BatchNo (None, 340, 444, 6)       24        \n",
      "_________________________________________________________________\n",
      "conv2d (Conv2D)              (None, 68, 89, 16)        2416      \n",
      "_________________________________________________________________\n",
      "max_pooling2d (MaxPooling2D) (None, 34, 45, 16)        0         \n",
      "_________________________________________________________________\n",
      "batch_normalization_1 (Batch (None, 34, 45, 16)        64        \n",
      "_________________________________________________________________\n",
      "conv2d_1 (Conv2D)            (None, 12, 15, 128)       51328     \n",
      "_________________________________________________________________\n",
      "max_pooling2d_1 (MaxPooling2 (None, 6, 8, 128)         0         \n",
      "_________________________________________________________________\n",
      "batch_normalization_2 (Batch (None, 6, 8, 128)         512       \n",
      "_________________________________________________________________\n",
      "conv2d_2 (Conv2D)            (None, 2, 3, 32)          36896     \n",
      "_________________________________________________________________\n",
      "max_pooling2d_2 (MaxPooling2 (None, 1, 2, 32)          0         \n",
      "_________________________________________________________________\n",
      "batch_normalization_3 (Batch (None, 1, 2, 32)          128       \n",
      "_________________________________________________________________\n",
      "conv2d_3 (Conv2D)            (None, 1, 1, 16)          12816     \n",
      "_________________________________________________________________\n",
      "flatten (Flatten)            (None, 16)                0         \n",
      "_________________________________________________________________\n",
      "dense (Dense)                (None, 32)                544       \n",
      "_________________________________________________________________\n",
      "dropout (Dropout)            (None, 32)                0         \n",
      "_________________________________________________________________\n",
      "dense_1 (Dense)              (None, 1)                 33        \n",
      "=================================================================\n",
      "Total params: 104,761\n",
      "Trainable params: 104,397\n",
      "Non-trainable params: 364\n",
      "_________________________________________________________________\n",
      "None\n"
     ]
    }
   ],
   "source": [
    "print(model.summary())"
   ]
  },
  {
   "cell_type": "code",
   "execution_count": null,
   "metadata": {},
   "outputs": [],
   "source": []
  }
 ],
 "metadata": {
  "kernelspec": {
   "display_name": "Python 3",
   "language": "python",
   "name": "python3"
  },
  "language_info": {
   "codemirror_mode": {
    "name": "ipython",
    "version": 3
   },
   "file_extension": ".py",
   "mimetype": "text/x-python",
   "name": "python",
   "nbconvert_exporter": "python",
   "pygments_lexer": "ipython3",
   "version": "3.8.4"
  }
 },
 "nbformat": 4,
 "nbformat_minor": 4
}
