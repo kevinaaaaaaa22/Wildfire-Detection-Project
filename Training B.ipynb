{
 "cells": [
  {
   "cell_type": "code",
   "execution_count": 1,
   "metadata": {},
   "outputs": [],
   "source": [
    "import numpy as np\n"
   ]
  },
  {
   "cell_type": "code",
   "execution_count": 2,
   "metadata": {},
   "outputs": [],
   "source": [
    "xTemp = np.zeros((696, 905720))\n",
    "with open(\"C:\\\\Users\\\\yangz\\\\Desktop\\\\FireProjectBatchDownloadNew\\\\DetectionDatasetFinalFlattened\\\\TrainingB_1000-1696.npy\", 'rb') as f1:\n",
    "        xTemp = np.load(f1)\n"
   ]
  },
  {
   "cell_type": "code",
   "execution_count": 3,
   "metadata": {},
   "outputs": [],
   "source": [
    "yTemp = np.zeros((696))\n",
    "for i in range (696):\n",
    "    if (i%2==0):\n",
    "        yTemp[i] = 0\n",
    "    else:\n",
    "        yTemp[i] = 1\n"
   ]
  },
  {
   "cell_type": "code",
   "execution_count": 4,
   "metadata": {},
   "outputs": [],
   "source": [
    "x = np.zeros((696, 905760))\n",
    "y = np.zeros((696))\n",
    "\n",
    "permutations = np.random.permutation(696)\n",
    "for i in range (696):\n",
    "    x[i] = xTemp[permutations[i]]\n",
    "    y[i] = yTemp[permutations[i]]\n"
   ]
  },
  {
   "cell_type": "code",
   "execution_count": 5,
   "metadata": {},
   "outputs": [
    {
     "data": {
      "text/plain": [
       "RandomForestClassifier(n_estimators=5)"
      ]
     },
     "execution_count": 5,
     "metadata": {},
     "output_type": "execute_result"
    }
   ],
   "source": [
    "from sklearn.ensemble import RandomForestClassifier\n",
    "import joblib\n",
    "\n",
    "loadedCLF = joblib.load(\"C:\\\\Users\\\\yangz\\\\Desktop\\\\FireProject\\\\randomForest\\\\Random Forest Training\\\\BasicTraningA-V2.joblib\")\n",
    "\n",
    "loadedCLF.fit(x, y)\n"
   ]
  },
  {
   "cell_type": "code",
   "execution_count": 6,
   "metadata": {},
   "outputs": [
    {
     "data": {
      "text/plain": [
       "['C:\\\\Users\\\\yangz\\\\Desktop\\\\FireProject\\\\randomForest\\\\Random Forest Training\\\\BasicTrainingB-V2.joblib']"
      ]
     },
     "execution_count": 6,
     "metadata": {},
     "output_type": "execute_result"
    }
   ],
   "source": [
    "joblib.dump(loadedCLF, \"C:\\\\Users\\\\yangz\\\\Desktop\\\\FireProject\\\\randomForest\\\\Random Forest Training\\\\BasicTrainingB-V2.joblib\")\n"
   ]
  },
  {
   "cell_type": "code",
   "execution_count": 7,
   "metadata": {},
   "outputs": [
    {
     "name": "stdout",
     "output_type": "stream",
     "text": [
      "Accuracy: 0.9827586206896551\n"
     ]
    }
   ],
   "source": [
    "yPred=loadedCLF.predict(x)\n",
    "\n",
    "from sklearn import metrics\n",
    "print(\"Accuracy:\", metrics.accuracy_score(y, yPred))"
   ]
  },
  {
   "cell_type": "code",
   "execution_count": null,
   "metadata": {},
   "outputs": [],
   "source": []
  }
 ],
 "metadata": {
  "kernelspec": {
   "display_name": "Python 3",
   "language": "python",
   "name": "python3"
  },
  "language_info": {
   "codemirror_mode": {
    "name": "ipython",
    "version": 3
   },
   "file_extension": ".py",
   "mimetype": "text/x-python",
   "name": "python",
   "nbconvert_exporter": "python",
   "pygments_lexer": "ipython3",
   "version": "3.8.4"
  }
 },
 "nbformat": 4,
 "nbformat_minor": 4
}
