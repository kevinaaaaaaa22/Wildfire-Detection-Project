{
 "cells": [
  {
   "cell_type": "code",
   "execution_count": 1,
   "metadata": {},
   "outputs": [
    {
     "name": "stdout",
     "output_type": "stream",
     "text": [
      "TensorFlow version: 2.2.0\n"
     ]
    }
   ],
   "source": [
    "import tensorflow as tf\n",
    "print (\"TensorFlow version: \" + tf.__version__)\n",
    "import keras\n",
    "from keras.layers import Conv2D, MaxPooling2D, Dense, Flatten, Dropout\n",
    "import numpy as np\n",
    "from keras import layers\n",
    "from keras.models import Model\n",
    "from keras.models import load_model\n",
    "from keras.layers.core import Dense, Dropout, Activation, Reshape\n",
    "from keras import callbacks\n"
   ]
  },
  {
   "cell_type": "code",
   "execution_count": 2,
   "metadata": {},
   "outputs": [],
   "source": [
    "xTemp = np.zeros((636, 6, 340, 444))\n",
    "with open(\"C:\\\\Users\\\\yangz\\\\Desktop\\\\FireProjectBatchDownloadNew\\\\DetectionDatasetFinal\\\\TrainingB_1060-1696.npy\", 'rb') as f1:\n",
    "        xTemp = np.load(f1)\n"
   ]
  },
  {
   "cell_type": "code",
   "execution_count": 3,
   "metadata": {},
   "outputs": [],
   "source": [
    "yTemp = np.zeros((636))\n",
    "for i in range (636):\n",
    "    if (i%2==0):\n",
    "        yTemp[i] = 0\n",
    "    else:\n",
    "        yTemp[i] = 1\n",
    "        "
   ]
  },
  {
   "cell_type": "code",
   "execution_count": 4,
   "metadata": {},
   "outputs": [],
   "source": [
    "x = np.zeros((636, 6, 340, 444))\n",
    "y = np.zeros((636))\n",
    "\n",
    "permutations = np.random.permutation(636)\n",
    "for i in range (636):\n",
    "    x[i] = xTemp[permutations[i]]\n",
    "    y[i] = yTemp[permutations[i]]\n"
   ]
  },
  {
   "cell_type": "code",
   "execution_count": 5,
   "metadata": {},
   "outputs": [],
   "source": [
    "x = np.reshape(x, (636, 340, 444, 6))\n"
   ]
  },
  {
   "cell_type": "code",
   "execution_count": 6,
   "metadata": {},
   "outputs": [
    {
     "name": "stdout",
     "output_type": "stream",
     "text": [
      "(636, 340, 444, 6)\n"
     ]
    }
   ],
   "source": [
    "print (x.shape)\n"
   ]
  },
  {
   "cell_type": "code",
   "execution_count": 7,
   "metadata": {},
   "outputs": [],
   "source": [
    "y = y.astype(int)\n"
   ]
  },
  {
   "cell_type": "code",
   "execution_count": 8,
   "metadata": {},
   "outputs": [
    {
     "name": "stdout",
     "output_type": "stream",
     "text": [
      "1\n"
     ]
    }
   ],
   "source": [
    "print (y[1])\n"
   ]
  },
  {
   "cell_type": "code",
   "execution_count": 9,
   "metadata": {},
   "outputs": [],
   "source": [
    "img_shape = (340, 444, 6)\n"
   ]
  },
  {
   "cell_type": "code",
   "execution_count": 10,
   "metadata": {},
   "outputs": [],
   "source": [
    "img = layers.Input(shape=img_shape)\n",
    "\n",
    "conv1 = layers.Conv2D(64, (5, 5), padding='same', activation='relu', strides=5)(img)\n",
    "bn1 = layers.BatchNormalization()(conv1)\n",
    "maxPooling1 = layers.MaxPooling2D(padding='same')(bn1)\n",
    "\n",
    "conv2 = layers.Conv2D(32, (5, 5), padding='same', activation='elu', strides=5)(maxPooling1)\n",
    "bn2 = layers.BatchNormalization()(conv2)\n",
    "maxPooling2 = layers.MaxPooling2D(padding='same')(bn2)\n",
    "\n",
    "conv3 = layers.Conv2D(32, (3, 3), padding='same', activation='elu', strides=3)(maxPooling2)\n",
    "bn3 = layers.BatchNormalization()(conv3)\n",
    "maxPooling3 = layers.MaxPooling2D(padding='same')(bn3)\n",
    "\n",
    "conv4 = layers.Conv2D(64, (3, 3), padding='same', activation='elu', strides=3)(maxPooling3)\n",
    "bn4 = layers.BatchNormalization()(conv4)\n",
    "maxPooling4 = layers.MaxPooling2D(padding='same')(bn4)\n",
    "\n",
    "conv5 = layers.Conv2D(128, (3, 3), padding='same', activation='elu', strides=3)(maxPooling4)\n",
    "maxPooling5 = layers.MaxPooling2D(padding='same')(conv5)\n",
    "\n",
    "flatten = layers.Flatten()(maxPooling5)\n",
    "\n",
    "dense1 = layers.Dense(128, activation = \"relu\")(flatten)\n",
    "drop2 = layers.Dropout(0.5)(dense1)\n",
    "res = layers.Dense(1, activation='sigmoid')(drop2)\n",
    "\n",
    "model = Model(img, res)\n",
    "opt = tf.keras.optimizers.RMSprop(learning_rate=1e-4)\n",
    "model.compile(optimizer = opt, loss = 'binary_crossentropy', metrics = ['accuracy'])\n"
   ]
  },
  {
   "cell_type": "code",
   "execution_count": 11,
   "metadata": {},
   "outputs": [],
   "source": [
    "model.load_weights(\"Model2TrainingA-V2.hdf5\")"
   ]
  },
  {
   "cell_type": "code",
   "execution_count": 12,
   "metadata": {},
   "outputs": [
    {
     "name": "stdout",
     "output_type": "stream",
     "text": [
      "Epoch 1/11\n",
      "80/80 [==============================] - 6s 81ms/step - loss: 0.7335 - accuracy: 0.7170\n",
      "Epoch 2/11\n",
      "80/80 [==============================] - 6s 81ms/step - loss: 0.4918 - accuracy: 0.7846\n",
      "Epoch 3/11\n",
      "80/80 [==============================] - 7s 81ms/step - loss: 0.3920 - accuracy: 0.8318\n",
      "Epoch 4/11\n",
      "80/80 [==============================] - 6s 81ms/step - loss: 0.3415 - accuracy: 0.8585\n",
      "Epoch 5/11\n",
      "80/80 [==============================] - 7s 82ms/step - loss: 0.3428 - accuracy: 0.8522\n",
      "Epoch 6/11\n",
      "80/80 [==============================] - 7s 83ms/step - loss: 0.2304 - accuracy: 0.9119\n",
      "Epoch 7/11\n",
      "80/80 [==============================] - 7s 82ms/step - loss: 0.2803 - accuracy: 0.8852\n",
      "Epoch 8/11\n",
      "80/80 [==============================] - 8s 97ms/step - loss: 0.2330 - accuracy: 0.9151\n",
      "Epoch 9/11\n",
      "80/80 [==============================] - 7s 89ms/step - loss: 0.1643 - accuracy: 0.9387\n",
      "Epoch 10/11\n",
      "80/80 [==============================] - 6s 81ms/step - loss: 0.1940 - accuracy: 0.9198\n",
      "Epoch 11/11\n",
      "80/80 [==============================] - 6s 78ms/step - loss: 0.1794 - accuracy: 0.9261\n"
     ]
    }
   ],
   "source": [
    "history = model.fit(x, y, batch_size = 8, epochs = 11)"
   ]
  },
  {
   "cell_type": "code",
   "execution_count": 13,
   "metadata": {},
   "outputs": [],
   "source": [
    "model.save_weights(\"Model2TrainingB-V2.hdf5\")"
   ]
  },
  {
   "cell_type": "code",
   "execution_count": 14,
   "metadata": {},
   "outputs": [
    {
     "name": "stdout",
     "output_type": "stream",
     "text": [
      "Model: \"model\"\n",
      "_________________________________________________________________\n",
      "Layer (type)                 Output Shape              Param #   \n",
      "=================================================================\n",
      "input_1 (InputLayer)         [(None, 340, 444, 6)]     0         \n",
      "_________________________________________________________________\n",
      "conv2d (Conv2D)              (None, 68, 89, 64)        9664      \n",
      "_________________________________________________________________\n",
      "batch_normalization (BatchNo (None, 68, 89, 64)        256       \n",
      "_________________________________________________________________\n",
      "max_pooling2d (MaxPooling2D) (None, 34, 45, 64)        0         \n",
      "_________________________________________________________________\n",
      "conv2d_1 (Conv2D)            (None, 7, 9, 32)          51232     \n",
      "_________________________________________________________________\n",
      "batch_normalization_1 (Batch (None, 7, 9, 32)          128       \n",
      "_________________________________________________________________\n",
      "max_pooling2d_1 (MaxPooling2 (None, 4, 5, 32)          0         \n",
      "_________________________________________________________________\n",
      "conv2d_2 (Conv2D)            (None, 2, 2, 32)          9248      \n",
      "_________________________________________________________________\n",
      "batch_normalization_2 (Batch (None, 2, 2, 32)          128       \n",
      "_________________________________________________________________\n",
      "max_pooling2d_2 (MaxPooling2 (None, 1, 1, 32)          0         \n",
      "_________________________________________________________________\n",
      "conv2d_3 (Conv2D)            (None, 1, 1, 64)          18496     \n",
      "_________________________________________________________________\n",
      "batch_normalization_3 (Batch (None, 1, 1, 64)          256       \n",
      "_________________________________________________________________\n",
      "max_pooling2d_3 (MaxPooling2 (None, 1, 1, 64)          0         \n",
      "_________________________________________________________________\n",
      "conv2d_4 (Conv2D)            (None, 1, 1, 128)         73856     \n",
      "_________________________________________________________________\n",
      "max_pooling2d_4 (MaxPooling2 (None, 1, 1, 128)         0         \n",
      "_________________________________________________________________\n",
      "flatten (Flatten)            (None, 128)               0         \n",
      "_________________________________________________________________\n",
      "dense (Dense)                (None, 128)               16512     \n",
      "_________________________________________________________________\n",
      "dropout (Dropout)            (None, 128)               0         \n",
      "_________________________________________________________________\n",
      "dense_1 (Dense)              (None, 1)                 129       \n",
      "=================================================================\n",
      "Total params: 179,905\n",
      "Trainable params: 179,521\n",
      "Non-trainable params: 384\n",
      "_________________________________________________________________\n",
      "None\n"
     ]
    }
   ],
   "source": [
    "print(model.summary())"
   ]
  },
  {
   "cell_type": "code",
   "execution_count": 15,
   "metadata": {},
   "outputs": [
    {
     "data": {
      "text/plain": [
       "[<matplotlib.lines.Line2D at 0x1742a8928e0>]"
      ]
     },
     "execution_count": 15,
     "metadata": {},
     "output_type": "execute_result"
    },
    {
     "data": {
      "image/png": "[encoded data removed]",
      "text/plain": [
       "<Figure size 432x288 with 1 Axes>"
      ]
     },
     "metadata": {
      "needs_background": "light"
     },
     "output_type": "display_data"
    }
   ],
   "source": [
    "from matplotlib import pyplot as plt\n",
    "plt.title('model loss')\n",
    "plt.ylabel('loss')\n",
    "plt.xlabel('epoch')\n",
    "plt.plot(history.history['loss'])"
   ]
  },
  {
   "cell_type": "code",
   "execution_count": null,
   "metadata": {},
   "outputs": [],
   "source": []
  }
 ],
 "metadata": {
  "kernelspec": {
   "display_name": "Python 3",
   "language": "python",
   "name": "python3"
  },
  "language_info": {
   "codemirror_mode": {
    "name": "ipython",
    "version": 3
   },
   "file_extension": ".py",
   "mimetype": "text/x-python",
   "name": "python",
   "nbconvert_exporter": "python",
   "pygments_lexer": "ipython3",
   "version": "3.8.4"
  }
 },
 "nbformat": 4,
 "nbformat_minor": 4
}
