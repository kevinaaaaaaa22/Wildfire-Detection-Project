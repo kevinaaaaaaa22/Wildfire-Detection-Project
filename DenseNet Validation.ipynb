{
 "cells": [
  {
   "cell_type": "code",
   "execution_count": 2,
   "metadata": {},
   "outputs": [],
   "source": [
    "import tensorflow as tf\n",
    "from tensorflow.keras.layers import Input, Conv2D, BatchNormalization, Dense\n",
    "from tensorflow.keras.layers import AvgPool2D, GlobalAveragePooling2D, MaxPool2D, Dropout\n",
    "from tensorflow.keras.models import Model\n",
    "from tensorflow.keras.layers import ReLU, concatenate\n",
    "import tensorflow.keras.backend as K\n",
    "import numpy as np\n"
   ]
  },
  {
   "cell_type": "code",
   "execution_count": 3,
   "metadata": {},
   "outputs": [],
   "source": [
    "validation = np.zeros((212, 6, 340, 444))\n",
    "with open(\"C:\\\\Users\\\\yangz\\\\Desktop\\\\FireProjectBatchDownloadNew\\\\DetectionDatasetFinal\\\\Validation_1908-2120.npy\", 'rb') as f1:\n",
    "        validation = np.load(f1)\n",
    "        "
   ]
  },
  {
   "cell_type": "code",
   "execution_count": 4,
   "metadata": {},
   "outputs": [],
   "source": [
    "validation = np.reshape(validation, (212, 340, 444, 6))\n",
    "yValidation = np.zeros((212))\n",
    "for i in range (212):\n",
    "    if (i%2==0):\n",
    "        yValidation[i] = 0\n",
    "    else:\n",
    "        yValidation[i] = 1\n"
   ]
  },
  {
   "cell_type": "code",
   "execution_count": 5,
   "metadata": {},
   "outputs": [
    {
     "name": "stdout",
     "output_type": "stream",
     "text": [
      "(212, 340, 444, 6)\n"
     ]
    }
   ],
   "source": [
    "print (validation.shape)\n",
    "img_shape = (340, 444, 6)\n"
   ]
  },
  {
   "cell_type": "code",
   "execution_count": 6,
   "metadata": {},
   "outputs": [],
   "source": [
    "def denseNet(inputShape, nClasses, filters = 32):\n",
    "    \n",
    "    def BnRlCv (x,filters,kernel=1,strides=1):\n",
    "        \n",
    "        x = BatchNormalization()(x)\n",
    "        x = ReLU()(x)\n",
    "        x = Conv2D(filters, kernel, strides=strides,padding = 'same')(x)\n",
    "        return x\n",
    "    \n",
    "    def denseBlock(x, repetition):\n",
    "        for _ in range(repetition):\n",
    "            y = BnRlCv(x, 4*filters)\n",
    "            y = BnRlCv(y, filters, 3)\n",
    "            x = concatenate([y,x])\n",
    "        return x\n",
    "        \n",
    "    def transition(x):\n",
    "        x = BnRlCv(x, K.int_shape(x)[-1] //2 )\n",
    "        x = AvgPool2D(2, strides = 2, padding = 'same')(x)\n",
    "        return x\n",
    "    \n",
    "    input = Input (inputShape)\n",
    "    x = Conv2D(64, 7, strides = 2, padding = 'same')(input)\n",
    "    x = MaxPool2D(3, strides = 2, padding = 'same')(x)\n",
    "    \n",
    "    for repetition in [6,12,24,16]:\n",
    "        d = denseBlock(x, repetition)\n",
    "        x = transition(d)\n",
    "    x = GlobalAveragePooling2D()(d)\n",
    "    x = Dropout(0.3)(x)\n",
    "    output = Dense(nClasses, activation = 'sigmoid')(x)\n",
    "    \n",
    "    model = Model(input, output)\n",
    "    return model\n",
    "\n",
    "inputShape = 340, 444, 6\n",
    "nClasses = 1\n",
    "model = denseNet(inputShape, nClasses)\n"
   ]
  },
  {
   "cell_type": "code",
   "execution_count": 7,
   "metadata": {},
   "outputs": [],
   "source": [
    "model.load_weights(\"DenseNetTrainingB.hdf5\")\n"
   ]
  },
  {
   "cell_type": "code",
   "execution_count": 8,
   "metadata": {},
   "outputs": [],
   "source": [
    "yPred = model.predict(validation)\n"
   ]
  },
  {
   "cell_type": "code",
   "execution_count": 9,
   "metadata": {},
   "outputs": [],
   "source": [
    "yPred[yPred>=0.5] = 1\n",
    "yPred[yPred<0.5] = 0\n",
    "yPred = yPred.astype(int)\n"
   ]
  },
  {
   "cell_type": "code",
   "execution_count": 10,
   "metadata": {},
   "outputs": [
    {
     "name": "stdout",
     "output_type": "stream",
     "text": [
      "[0 1 0 1 1 1 0 1 0 0 0 0 0 0 0 1 0 1 0 1 0 0 0 1 0 0 1 1 0 1 0 1 1 0 1 0 1\n",
      " 1 0 0 0 1 0 1 1 1 0 1 0 1 0 1 0 1 1 1 0 1 0 0 1 0 0 1 0 1 0 0 0 1 0 1 0 1\n",
      " 0 0 1 1 0 1 1 0 0 0 0 1 0 1 0 1 1 1 0 1 0 1 0 1 0 1 1 0 0 1 0 0 0 1 0 1 0\n",
      " 0 0 1 0 1 0 0 0 1 0 1 0 1 0 1 0 1 1 0 1 1 0 0 0 0 0 0 0 1 0 1 0 1 0 1 0 0\n",
      " 0 1 0 1 0 1 0 1 0 1 0 1 0 1 0 1 0 1 0 0 0 1 0 0 0 0 1 1 0 1 1 1 0 1 0 0 0\n",
      " 0 0 1 1 1 0 0 0 1 0 0 0 0 0 1 0 1 0 0 1 1 0 0 0 0 0 1]\n"
     ]
    }
   ],
   "source": [
    "yPred = yPred.flatten()\n",
    "print (yPred)\n"
   ]
  },
  {
   "cell_type": "code",
   "execution_count": 12,
   "metadata": {},
   "outputs": [
    {
     "name": "stdout",
     "output_type": "stream",
     "text": [
      "0.7547169811320755\n"
     ]
    }
   ],
   "source": [
    "correct = 0\n",
    "for i in range (212):\n",
    "    if (yPred[i]==yValidation[i]):\n",
    "        correct+=1\n",
    "        \n",
    "print (correct/212)\n"
   ]
  },
  {
   "cell_type": "code",
   "execution_count": null,
   "metadata": {},
   "outputs": [],
   "source": []
  }
 ],
 "metadata": {
  "kernelspec": {
   "display_name": "Python 3",
   "language": "python",
   "name": "python3"
  },
  "language_info": {
   "codemirror_mode": {
    "name": "ipython",
    "version": 3
   },
   "file_extension": ".py",
   "mimetype": "text/x-python",
   "name": "python",
   "nbconvert_exporter": "python",
   "pygments_lexer": "ipython3",
   "version": "3.8.4"
  }
 },
 "nbformat": 4,
 "nbformat_minor": 4
}
