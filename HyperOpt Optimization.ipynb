{
 "cells": [
  {
   "cell_type": "code",
   "execution_count": 1,
   "metadata": {},
   "outputs": [],
   "source": [
    "import numpy as np\n"
   ]
  },
  {
   "cell_type": "code",
   "execution_count": 2,
   "metadata": {},
   "outputs": [],
   "source": [
    "xTemp = np.zeros((1000, 905760))\n",
    "with open(\"C:\\\\Users\\\\yangz\\\\Desktop\\\\FireProjectBatchDownloadNew\\\\DetectionDatasetFinalFlattened\\\\TrainingA_1-1000.npy\", 'rb') as f1:\n",
    "        xTemp = np.load(f1)\n",
    "        "
   ]
  },
  {
   "cell_type": "code",
   "execution_count": 3,
   "metadata": {},
   "outputs": [],
   "source": [
    "yTemp = np.zeros((1000))\n",
    "for i in range (1000):\n",
    "    if (i%2==0):\n",
    "        yTemp[i] = 0\n",
    "    else:\n",
    "        yTemp[i] = 1\n"
   ]
  },
  {
   "cell_type": "code",
   "execution_count": 4,
   "metadata": {},
   "outputs": [],
   "source": [
    "x = np.zeros((1000, 905760))\n",
    "y = np.zeros((1000))\n",
    "\n",
    "permutations = np.random.permutation(1000)\n",
    "for i in range (1000):\n",
    "    x[i] = xTemp[permutations[i]]\n",
    "    y[i] = yTemp[permutations[i]]\n",
    "    "
   ]
  },
  {
   "cell_type": "code",
   "execution_count": 5,
   "metadata": {},
   "outputs": [],
   "source": [
    "validation = np.zeros((212, 905720))\n",
    "with open(\"C:\\\\Users\\\\yangz\\\\Desktop\\\\FireProjectBatchDownloadNew\\\\DetectionDatasetFinalFlattened\\\\Validation_1908-2120.npy\", 'rb') as f1:\n",
    "        validation = np.load(f1)"
   ]
  },
  {
   "cell_type": "code",
   "execution_count": 6,
   "metadata": {},
   "outputs": [],
   "source": [
    "yValidation = np.zeros((212))\n",
    "for i in range (212):\n",
    "    if (i%2==0):\n",
    "        yValidation[i] = 0\n",
    "    else:\n",
    "        yValidation[i] = 1\n",
    "        "
   ]
  },
  {
   "cell_type": "code",
   "execution_count": 7,
   "metadata": {},
   "outputs": [],
   "source": [
    "from sklearn.ensemble import RandomForestClassifier\n",
    "from hyperopt import fmin, tpe, hp, STATUS_OK, Trials\n",
    "from sklearn.metrics import roc_auc_score\n",
    "import sys\n",
    "\n",
    "space = {\n",
    "            'estimators': hp.uniform('estimators', 1, 20),\n",
    "    \n",
    "            'max_depth': hp.uniform('max_depth', 2, 15),\n",
    "    \n",
    "            'min_samples_split': hp.uniform('min_samples_split', 20, 500),\n",
    "    \n",
    "            'min_samples_leaf': hp.uniform('min_samples_leaf', 100, 400),\n",
    "            \n",
    "        }"
   ]
  },
  {
   "cell_type": "code",
   "execution_count": 8,
   "metadata": {},
   "outputs": [
    {
     "name": "stdout",
     "output_type": "stream",
     "text": [
      "Accuracy:                                                                           \n",
      "0.6886792452830188                                                                  \n",
      "Accuracy:                                                                           \n",
      "0.7405660377358491                                                                  \n",
      "Accuracy:                                                                           \n",
      "0.7405660377358491                                                                  \n",
      "Accuracy:                                                                           \n",
      "0.6933962264150944                                                                  \n",
      "Accuracy:                                                                           \n",
      "0.7264150943396226                                                                  \n",
      "Accuracy:                                                                           \n",
      "0.7641509433962265                                                                  \n",
      "Accuracy:                                                                           \n",
      "0.6886792452830188                                                                  \n",
      "Accuracy:                                                                           \n",
      "0.6981132075471698                                                                  \n",
      "Accuracy:                                                                           \n",
      "0.7028301886792453                                                                  \n",
      "Accuracy:                                                                           \n",
      "0.5                                                                                 \n",
      "Accuracy:                                                                           \n",
      "0.6933962264150944                                                                  \n",
      "Accuracy:                                                                           \n",
      "0.7028301886792453                                                                  \n",
      "Accuracy:                                                                           \n",
      "0.5                                                                                 \n",
      "Accuracy:                                                                           \n",
      "0.5                                                                                 \n",
      "Accuracy:                                                                           \n",
      "0.6792452830188679                                                                  \n",
      "Accuracy:                                                                           \n",
      "0.5                                                                                 \n",
      "Accuracy:                                                                           \n",
      "0.5                                                                                 \n",
      "Accuracy:                                                                           \n",
      "0.7028301886792453                                                                  \n",
      "Accuracy:                                                                           \n",
      "0.5                                                                                 \n",
      "Accuracy:                                                                           \n",
      "0.6933962264150944                                                                  \n",
      "100%|████████████| 20/20 [03:19<00:00,  9.95s/trial, best loss: -0.7641509433962265]\n",
      "best:  {'estimators': 17.532476803093726, 'max_depth': 12.354764103341848, 'min_samples_leaf': 117.26520288427938, 'min_samples_split': 55.43363588660989}\n"
     ]
    }
   ],
   "source": [
    "from tqdm.keras import TqdmCallback\n",
    "\n",
    "def f_nn(params):\n",
    "    \n",
    "    clf = RandomForestClassifier(n_estimators=int(params['estimators']), max_depth=int(params['max_depth']), min_samples_split=int(params['min_samples_split']), min_samples_leaf=int(params['min_samples_leaf']))\n",
    "    clf.fit(x, y)\n",
    "    \n",
    "    yPred = clf.predict(validation)\n",
    "    yPred[yPred>=0.5] = 1\n",
    "    yPred[yPred<0.5] = 0\n",
    "    yPred = yPred.astype(int)\n",
    "    yPred = yPred.flatten()\n",
    "    \n",
    "    correct = 0\n",
    "    for i in range (212):\n",
    "        if (yPred[i]==yValidation[i]):\n",
    "            correct+=1\n",
    "    acc = correct/212\n",
    "    \n",
    "    print('Accuracy:', acc)\n",
    "    sys.stdout.flush() \n",
    "    return {'loss': -acc, 'status': STATUS_OK}\n",
    "    \n",
    "trials = Trials()\n",
    "best = fmin(f_nn, space, algo=tpe.suggest, max_evals=20, trials=trials)\n",
    "print('best: ', best)"
   ]
  },
  {
   "cell_type": "code",
   "execution_count": null,
   "metadata": {},
   "outputs": [],
   "source": [
    "#Acc1: 0.7025862068965517 / 0.7122641509433962"
   ]
  }
 ],
 "metadata": {
  "kernelspec": {
   "display_name": "Python 3",
   "language": "python",
   "name": "python3"
  },
  "language_info": {
   "codemirror_mode": {
    "name": "ipython",
    "version": 3
   },
   "file_extension": ".py",
   "mimetype": "text/x-python",
   "name": "python",
   "nbconvert_exporter": "python",
   "pygments_lexer": "ipython3",
   "version": "3.8.4"
  }
 },
 "nbformat": 4,
 "nbformat_minor": 4
}
