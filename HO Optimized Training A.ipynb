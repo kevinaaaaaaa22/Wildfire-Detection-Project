{
 "cells": [
  {
   "cell_type": "code",
   "execution_count": 1,
   "metadata": {},
   "outputs": [],
   "source": [
    "import numpy as np\n"
   ]
  },
  {
   "cell_type": "code",
   "execution_count": 2,
   "metadata": {},
   "outputs": [],
   "source": [
    "xTemp = np.zeros((1000, 905760))\n",
    "with open(\"C:\\\\Users\\\\yangz\\\\Desktop\\\\FireProjectBatchDownloadNew\\\\DetectionDatasetFinalFlattened\\\\TrainingA_1-1000.npy\", 'rb') as f1:\n",
    "        xTemp = np.load(f1)\n",
    "        "
   ]
  },
  {
   "cell_type": "code",
   "execution_count": 3,
   "metadata": {},
   "outputs": [],
   "source": [
    "yTemp = np.zeros((1000))\n",
    "for i in range (1000):\n",
    "    if (i%2==0):\n",
    "        yTemp[i] = 0\n",
    "    else:\n",
    "        yTemp[i] = 1\n",
    "        "
   ]
  },
  {
   "cell_type": "code",
   "execution_count": 4,
   "metadata": {},
   "outputs": [],
   "source": [
    "validation = np.zeros((212, 905720))\n",
    "with open(\"C:\\\\Users\\\\yangz\\\\Desktop\\\\FireProjectBatchDownloadNew\\\\DetectionDatasetFinalFlattened\\\\Validation_1908-2120.npy\", 'rb') as f1:\n",
    "        validation = np.load(f1)"
   ]
  },
  {
   "cell_type": "code",
   "execution_count": 5,
   "metadata": {},
   "outputs": [],
   "source": [
    "yValidation = np.zeros((212))\n",
    "for i in range (212):\n",
    "    if (i%2==0):\n",
    "        yValidation[i] = 0\n",
    "    else:\n",
    "        yValidation[i] = 1\n",
    "        "
   ]
  },
  {
   "cell_type": "code",
   "execution_count": 6,
   "metadata": {},
   "outputs": [],
   "source": [
    "x = np.zeros((1212, 905760))\n",
    "y = np.zeros((1212))\n",
    "\n",
    "permutations = np.random.permutation(1212)\n",
    "for i in range (1212):\n",
    "    if (permutations[i] < 1000):\n",
    "        x[i] = xTemp[permutations[i]]\n",
    "        y[i] = yTemp[permutations[i]]\n",
    "    elif (permutations[i] >= 1000):\n",
    "        x[i] = validation[permutations[i]-1000]\n",
    "        y[i] = yValidation[permutations[i]-1000]\n",
    "    "
   ]
  },
  {
   "cell_type": "code",
   "execution_count": 7,
   "metadata": {},
   "outputs": [
    {
     "data": {
      "text/plain": [
       "RandomForestClassifier(max_depth=12, min_samples_leaf=117, min_samples_split=55,\n",
       "                       n_estimators=17)"
      ]
     },
     "execution_count": 7,
     "metadata": {},
     "output_type": "execute_result"
    }
   ],
   "source": [
    "from sklearn.ensemble import RandomForestClassifier\n",
    "\n",
    "clf = RandomForestClassifier(n_estimators=17, max_depth=12, min_samples_split=55, min_samples_leaf=117)\n",
    "clf.fit(x, y)\n"
   ]
  },
  {
   "cell_type": "code",
   "execution_count": 8,
   "metadata": {},
   "outputs": [
    {
     "data": {
      "text/plain": [
       "['C:\\\\Users\\\\yangz\\\\Desktop\\\\FireProject\\\\randomForest\\\\Random Forest Training Hyperopt\\\\TrainingA-HO-V2.joblib']"
      ]
     },
     "execution_count": 8,
     "metadata": {},
     "output_type": "execute_result"
    }
   ],
   "source": [
    "import joblib\n",
    "\n",
    "joblib.dump(clf, \"C:\\\\Users\\\\yangz\\\\Desktop\\\\FireProject\\\\randomForest\\\\Random Forest Training Hyperopt\\\\TrainingA-HO-V2.joblib\")"
   ]
  },
  {
   "cell_type": "code",
   "execution_count": 9,
   "metadata": {},
   "outputs": [
    {
     "name": "stdout",
     "output_type": "stream",
     "text": [
      "Accuracy: 0.7764026402640264\n"
     ]
    }
   ],
   "source": [
    "yPred=clf.predict(x)\n",
    "\n",
    "from sklearn import metrics\n",
    "print(\"Accuracy:\", metrics.accuracy_score(y, yPred))"
   ]
  },
  {
   "cell_type": "code",
   "execution_count": 10,
   "metadata": {},
   "outputs": [
    {
     "name": "stdout",
     "output_type": "stream",
     "text": [
      "771\n"
     ]
    }
   ],
   "source": [
    "correct = 0\n",
    "for i in range (1000):\n",
    "    if (yPred[i]==y[i]):\n",
    "        correct+=1\n",
    "        \n",
    "print (correct)"
   ]
  },
  {
   "cell_type": "code",
   "execution_count": null,
   "metadata": {},
   "outputs": [],
   "source": []
  }
 ],
 "metadata": {
  "kernelspec": {
   "display_name": "Python 3",
   "language": "python",
   "name": "python3"
  },
  "language_info": {
   "codemirror_mode": {
    "name": "ipython",
    "version": 3
   },
   "file_extension": ".py",
   "mimetype": "text/x-python",
   "name": "python",
   "nbconvert_exporter": "python",
   "pygments_lexer": "ipython3",
   "version": "3.8.4"
  }
 },
 "nbformat": 4,
 "nbformat_minor": 4
}
