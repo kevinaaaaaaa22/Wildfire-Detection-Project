{
 "cells": [
  {
   "cell_type": "code",
   "execution_count": 1,
   "metadata": {},
   "outputs": [
    {
     "name": "stdout",
     "output_type": "stream",
     "text": [
      "TensorFlow version: 2.2.0\n"
     ]
    }
   ],
   "source": [
    "import tensorflow as tf\n",
    "print (\"TensorFlow version: \" + tf.__version__)\n",
    "import keras\n",
    "from keras.layers import Conv2D, MaxPooling2D, Dense, Flatten, Dropout\n",
    "import numpy as np\n",
    "from keras import layers\n",
    "from keras.models import Model\n",
    "from keras.models import load_model\n",
    "from keras.layers.core import Dense, Dropout, Activation, Reshape\n",
    "from keras import callbacks\n"
   ]
  },
  {
   "cell_type": "code",
   "execution_count": 2,
   "metadata": {},
   "outputs": [],
   "source": [
    "xTemp = np.zeros((1060, 6, 340, 444))\n",
    "with open(\"C:\\\\Users\\\\yangz\\\\Desktop\\\\FireProjectBatchDownloadNew\\\\DetectionDatasetFinal\\\\TrainingA_1-1060.npy\", 'rb') as f1:\n",
    "        xTemp = np.load(f1)\n"
   ]
  },
  {
   "cell_type": "code",
   "execution_count": 3,
   "metadata": {},
   "outputs": [],
   "source": [
    "yTemp = np.zeros((1060))\n",
    "for i in range (1060):\n",
    "    if (i%2==0):\n",
    "        yTemp[i] = 0\n",
    "    else:\n",
    "        yTemp[i] = 1\n"
   ]
  },
  {
   "cell_type": "code",
   "execution_count": 4,
   "metadata": {},
   "outputs": [],
   "source": [
    "x = np.zeros((1060, 6, 340, 444))\n",
    "y = np.zeros((1060))\n",
    "\n",
    "permutations = np.random.permutation(1060)\n",
    "for i in range (1060):\n",
    "    x[i] = xTemp[permutations[i]]\n",
    "    y[i] = yTemp[permutations[i]]\n"
   ]
  },
  {
   "cell_type": "code",
   "execution_count": 5,
   "metadata": {},
   "outputs": [
    {
     "name": "stdout",
     "output_type": "stream",
     "text": [
      "993\n",
      "[[0.22092199 0.21960486 0.21960486 ... 0.32462301 0.42871346 0.48238119]\n",
      " [0.22841894 0.22218746 0.22218746 ... 0.29360986 0.26865396 0.42245417]\n",
      " [0.22092199 0.22218746 0.21496936 ... 0.26149849 0.26932624 0.27731213]\n",
      " ...\n",
      " [0.54422588 0.60511174 0.72244385 ... 0.26932624 0.36613475 0.43808702]\n",
      " [0.76950355 0.63120567 0.72244385 ... 0.40647163 0.45989074 0.42782645]\n",
      " [0.77651866 0.72244385 0.72998987 ... 0.40957447 0.39447959 0.32298367]]\n",
      "[[0.52551915 0.52551915 0.51005914 ... 0.39716112 0.39716112 0.53796072]\n",
      " [0.51005914 0.51005914 0.51005914 ... 0.39716112 0.39716112 0.53796072]\n",
      " [0.49431284 0.49431284 0.51005914 ... 0.48299798 0.48299798 0.57122462]\n",
      " ...\n",
      " [0.58557658 0.58557658 0.51492078 ... 0.49372404 0.49372404 0.52438361]\n",
      " [0.5689941  0.5689941  0.51492078 ... 0.50919193 0.50919193 0.52438361]\n",
      " [0.5689941  0.55024868 0.49690355 ... 0.50835542 0.50835542 0.49315627]]\n"
     ]
    }
   ],
   "source": [
    "print (permutations[5])\n",
    "print (x[5][0])\n",
    "print (xTemp[175][0])"
   ]
  },
  {
   "cell_type": "code",
   "execution_count": 6,
   "metadata": {},
   "outputs": [],
   "source": [
    "x = np.reshape(x, (1060, 340, 444, 6))\n"
   ]
  },
  {
   "cell_type": "code",
   "execution_count": 7,
   "metadata": {},
   "outputs": [
    {
     "name": "stdout",
     "output_type": "stream",
     "text": [
      "(1060, 340, 444, 6)\n"
     ]
    }
   ],
   "source": [
    "print (x.shape)"
   ]
  },
  {
   "cell_type": "code",
   "execution_count": 8,
   "metadata": {},
   "outputs": [],
   "source": [
    "y = y.astype(int)"
   ]
  },
  {
   "cell_type": "code",
   "execution_count": 9,
   "metadata": {},
   "outputs": [
    {
     "name": "stdout",
     "output_type": "stream",
     "text": [
      "1\n"
     ]
    }
   ],
   "source": [
    "print (y[1])"
   ]
  },
  {
   "cell_type": "code",
   "execution_count": 10,
   "metadata": {},
   "outputs": [],
   "source": [
    "img_shape = (340, 444, 6)\n"
   ]
  },
  {
   "cell_type": "code",
   "execution_count": 16,
   "metadata": {},
   "outputs": [
    {
     "name": "stdout",
     "output_type": "stream",
     "text": [
      "Epoch 1/10\n",
      "133/133 [==============================] - 46s 344ms/step - loss: 0.6767 - accuracy: 0.5547\n",
      "Epoch 2/10\n",
      "133/133 [==============================] - 45s 335ms/step - loss: 0.6203 - accuracy: 0.6632\n",
      "Epoch 3/10\n",
      "133/133 [==============================] - 45s 335ms/step - loss: 0.5662 - accuracy: 0.7151\n",
      "Epoch 4/10\n",
      "133/133 [==============================] - 45s 335ms/step - loss: 0.5231 - accuracy: 0.7321\n",
      "Epoch 5/10\n",
      "133/133 [==============================] - 45s 335ms/step - loss: 0.4837 - accuracy: 0.7717\n",
      "Epoch 6/10\n",
      "133/133 [==============================] - 45s 335ms/step - loss: 0.4475 - accuracy: 0.7943\n",
      "Epoch 7/10\n",
      "133/133 [==============================] - 45s 336ms/step - loss: 0.3804 - accuracy: 0.8311\n",
      "Epoch 8/10\n",
      "133/133 [==============================] - 45s 336ms/step - loss: 0.3174 - accuracy: 0.8689\n",
      "Epoch 9/10\n",
      "133/133 [==============================] - 45s 335ms/step - loss: 0.2783 - accuracy: 0.8915\n",
      "Epoch 10/10\n",
      "133/133 [==============================] - 44s 334ms/step - loss: 0.2359 - accuracy: 0.9132\n"
     ]
    }
   ],
   "source": [
    "img = layers.Input(shape=img_shape)\n",
    "\n",
    "bn1 = layers.BatchNormalization()(img)\n",
    "conv1 = layers.Conv2D(64, (5, 5), padding='same', activation='relu', strides=5)(bn1)\n",
    "maxPooling1 = layers.MaxPooling2D(padding='same')(conv1)\n",
    "\n",
    "bn2 = layers.BatchNormalization()(maxPooling1)\n",
    "conv2 = layers.Conv2D(32, (3, 3), padding='same', activation='elu', strides=3)(bn2)\n",
    "maxPooling2 = layers.MaxPooling2D(padding='same')(conv2)\n",
    "\n",
    "bn3 = layers.BatchNormalization()(maxPooling2)\n",
    "conv3 = layers.Conv2D(64, (3, 3), padding='same', activation='elu', strides=3)(bn3)\n",
    "maxPooling3 = layers.MaxPooling2D(padding='same')(conv3)\n",
    "\n",
    "bn4 = layers.BatchNormalization()(maxPooling3)\n",
    "conv4 = layers.Conv2D(128, (3, 3), padding='same', activation='elu', strides=3)(bn4)\n",
    "\n",
    "flatten = layers.Flatten()(conv4)\n",
    "\n",
    "dense1 = layers.Dense(128, activation = \"relu\")(flatten)\n",
    "drop = layers.Dropout(0.5)(dense1)\n",
    "res = layers.Dense(1, activation='sigmoid')(drop)\n",
    "\n",
    "model = Model(img, res)\n",
    "opt = tf.keras.optimizers.Adam(learning_rate=1e-4)\n",
    "model.compile(optimizer = opt, loss = 'binary_crossentropy', metrics = ['accuracy'])\n",
    "\n",
    "history = model.fit(x, y, batch_size = 8, epochs = 10)\n"
   ]
  },
  {
   "cell_type": "code",
   "execution_count": 17,
   "metadata": {},
   "outputs": [],
   "source": [
    "model.save_weights(\"Model1TrainingA-V3.hdf5\")"
   ]
  },
  {
   "cell_type": "code",
   "execution_count": 18,
   "metadata": {},
   "outputs": [
    {
     "name": "stdout",
     "output_type": "stream",
     "text": [
      "Model: \"model_4\"\n",
      "_________________________________________________________________\n",
      "Layer (type)                 Output Shape              Param #   \n",
      "=================================================================\n",
      "input_5 (InputLayer)         [(None, 340, 444, 6)]     0         \n",
      "_________________________________________________________________\n",
      "batch_normalization_16 (Batc (None, 340, 444, 6)       24        \n",
      "_________________________________________________________________\n",
      "conv2d_16 (Conv2D)           (None, 68, 89, 64)        9664      \n",
      "_________________________________________________________________\n",
      "max_pooling2d_12 (MaxPooling (None, 34, 45, 64)        0         \n",
      "_________________________________________________________________\n",
      "batch_normalization_17 (Batc (None, 34, 45, 64)        256       \n",
      "_________________________________________________________________\n",
      "conv2d_17 (Conv2D)           (None, 12, 15, 32)        18464     \n",
      "_________________________________________________________________\n",
      "max_pooling2d_13 (MaxPooling (None, 6, 8, 32)          0         \n",
      "_________________________________________________________________\n",
      "batch_normalization_18 (Batc (None, 6, 8, 32)          128       \n",
      "_________________________________________________________________\n",
      "conv2d_18 (Conv2D)           (None, 2, 3, 64)          18496     \n",
      "_________________________________________________________________\n",
      "max_pooling2d_14 (MaxPooling (None, 1, 2, 64)          0         \n",
      "_________________________________________________________________\n",
      "batch_normalization_19 (Batc (None, 1, 2, 64)          256       \n",
      "_________________________________________________________________\n",
      "conv2d_19 (Conv2D)           (None, 1, 1, 128)         73856     \n",
      "_________________________________________________________________\n",
      "flatten_4 (Flatten)          (None, 128)               0         \n",
      "_________________________________________________________________\n",
      "dense_8 (Dense)              (None, 128)               16512     \n",
      "_________________________________________________________________\n",
      "dropout_4 (Dropout)          (None, 128)               0         \n",
      "_________________________________________________________________\n",
      "dense_9 (Dense)              (None, 1)                 129       \n",
      "=================================================================\n",
      "Total params: 137,785\n",
      "Trainable params: 137,453\n",
      "Non-trainable params: 332\n",
      "_________________________________________________________________\n",
      "None\n"
     ]
    }
   ],
   "source": [
    "print(model.summary())"
   ]
  },
  {
   "cell_type": "code",
   "execution_count": 19,
   "metadata": {},
   "outputs": [
    {
     "data": {
      "text/plain": [
       "[<matplotlib.lines.Line2D at 0x1df69cedc10>]"
      ]
     },
     "execution_count": 19,
     "metadata": {},
     "output_type": "execute_result"
    },
    {
     "data": {
      "image/png": "[encoded data removed]",
      "text/plain": [
       "<Figure size 432x288 with 1 Axes>"
      ]
     },
     "metadata": {
      "needs_background": "light"
     },
     "output_type": "display_data"
    }
   ],
   "source": [
    "from matplotlib import pyplot as plt\n",
    "plt.title('model loss')\n",
    "plt.ylabel('loss')\n",
    "plt.xlabel('epoch')\n",
    "plt.plot(history.history['loss'])"
   ]
  },
  {
   "cell_type": "code",
   "execution_count": null,
   "metadata": {},
   "outputs": [],
   "source": []
  }
 ],
 "metadata": {
  "kernelspec": {
   "display_name": "Python 3",
   "language": "python",
   "name": "python3"
  },
  "language_info": {
   "codemirror_mode": {
    "name": "ipython",
    "version": 3
   },
   "file_extension": ".py",
   "mimetype": "text/x-python",
   "name": "python",
   "nbconvert_exporter": "python",
   "pygments_lexer": "ipython3",
   "version": "3.8.4"
  }
 },
 "nbformat": 4,
 "nbformat_minor": 4
}
