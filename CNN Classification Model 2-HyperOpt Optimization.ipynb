{
 "cells": [
  {
   "cell_type": "code",
   "execution_count": 1,
   "metadata": {},
   "outputs": [
    {
     "name": "stdout",
     "output_type": "stream",
     "text": [
      "TensorFlow version: 2.2.0\n"
     ]
    }
   ],
   "source": [
    "import tensorflow as tf\n",
    "print (\"TensorFlow version: \" + tf.__version__)\n",
    "import keras\n",
    "from keras.layers import Conv2D, MaxPooling2D, Dense, Flatten, Dropout\n",
    "import numpy as np\n",
    "from keras import layers\n",
    "from keras.models import Model\n",
    "from keras.models import load_model\n",
    "from keras.layers.core import Dense, Dropout, Activation, Reshape\n",
    "from keras import callbacks\n"
   ]
  },
  {
   "cell_type": "code",
   "execution_count": 2,
   "metadata": {},
   "outputs": [],
   "source": [
    "xTemp = np.zeros((1060, 6, 340, 444))\n",
    "with open(\"C:\\\\Users\\\\yangz\\\\Desktop\\\\FireProjectBatchDownloadNew\\\\DetectionDatasetFinal\\\\TrainingA_1-1060.npy\", 'rb') as f1:\n",
    "        xTemp = np.load(f1)\n",
    "        "
   ]
  },
  {
   "cell_type": "code",
   "execution_count": 3,
   "metadata": {},
   "outputs": [],
   "source": [
    "yTemp = np.zeros((1060))\n",
    "for i in range (1060):\n",
    "    if (i%2==0):\n",
    "        yTemp[i] = 0\n",
    "    else:\n",
    "        yTemp[i] = 1\n",
    "        "
   ]
  },
  {
   "cell_type": "code",
   "execution_count": 4,
   "metadata": {},
   "outputs": [],
   "source": [
    "x = np.zeros((1060, 6, 340, 444))\n",
    "y = np.zeros((1060))\n",
    "\n",
    "permutations = np.random.permutation(1060)\n",
    "for i in range (1060):\n",
    "    x[i] = xTemp[permutations[i]]\n",
    "    y[i] = yTemp[permutations[i]]\n"
   ]
  },
  {
   "cell_type": "code",
   "execution_count": 5,
   "metadata": {},
   "outputs": [],
   "source": [
    "x = np.reshape(x, (1060, 340, 444, 6))\n",
    "y = y.astype(int)\n",
    "img_shape = (340, 444, 6)"
   ]
  },
  {
   "cell_type": "code",
   "execution_count": 6,
   "metadata": {},
   "outputs": [],
   "source": [
    "validation = np.zeros((212, 6, 340, 444))\n",
    "with open(\"C:\\\\Users\\\\yangz\\\\Desktop\\\\FireProjectBatchDownloadNew\\\\DetectionDatasetFinal\\\\Validation_1908-2120.npy\", 'rb') as f1:\n",
    "        validation = np.load(f1)"
   ]
  },
  {
   "cell_type": "code",
   "execution_count": 7,
   "metadata": {},
   "outputs": [],
   "source": [
    "validation = np.reshape(validation, (212, 340, 444, 6))\n",
    "yValidation = np.zeros((212))\n",
    "for i in range (212):\n",
    "    if (i%2==0):\n",
    "        yValidation[i] = 0\n",
    "    else:\n",
    "        yValidation[i] = 1"
   ]
  },
  {
   "cell_type": "code",
   "execution_count": 8,
   "metadata": {},
   "outputs": [],
   "source": [
    "from hyperopt import fmin, tpe, hp, STATUS_OK, Trials\n",
    "from sklearn.metrics import roc_auc_score\n",
    "import sys\n",
    "\n",
    "space = {\n",
    "            'units1': hp.choice('units1', [16, 32, 64, 128, 256]),\n",
    "            'units2': hp.choice('units2', [16, 32, 64, 128, 256]),\n",
    "            'units3': hp.choice('units3', [16, 32, 64, 128, 256]),\n",
    "            'units4': hp.choice('units4', [16, 32, 64, 128, 256]),\n",
    "            'units5': hp.choice('units5', [16, 32, 64, 128, 256]),\n",
    "            'units6': hp.choice('units6', [16, 32, 64, 128, 256]),\n",
    "    \n",
    "            'poolSize1': hp.choice('poolSize1', [3, 5]),\n",
    "            'poolSize2': hp.choice('poolSize2', [3, 5]),\n",
    "            'poolSize3': hp.choice('poolSize3', [3, 5]),\n",
    "            'poolSize4': hp.choice('poolSize4', [3, 5]),\n",
    "            'poolSize5': hp.choice('poolSize5', [3, 5]),\n",
    "\n",
    "            'dropout1': hp.uniform('dropout1', .20,.70),\n",
    "\n",
    "            'batchSize' : hp.choice('batchSize', [4, 8, 16, 32]),\n",
    "\n",
    "            'nbEpochs' : hp.choice('nbEpochs', [9, 10, 11, 12]),\n",
    "    \n",
    "            'learnRate1' : hp.choice('learnRate1', [1e-3, 1e-4, 1e-5]), \n",
    "        }\n"
   ]
  },
  {
   "cell_type": "code",
   "execution_count": 9,
   "metadata": {},
   "outputs": [
    {
     "name": "stdout",
     "output_type": "stream",
     "text": [
      "\r",
      "  0%|                                                                           | 0/20 [00:00<?, ?trial/s, best loss=?]"
     ]
    },
    {
     "data": {
      "application/vnd.jupyter.widget-view+json": {
       "model_id": "d1f7913f6c5a45769431826ef554d58e",
       "version_major": 2,
       "version_minor": 0
      },
      "text/plain": [
       "HBox(children=(FloatProgress(value=1.0, bar_style='info', max=1.0), HTML(value='')))"
      ]
     },
     "metadata": {},
     "output_type": "display_data"
    },
    {
     "data": {
      "application/vnd.jupyter.widget-view+json": {
       "model_id": "",
       "version_major": 2,
       "version_minor": 0
      },
      "text/plain": [
       "HBox(children=(FloatProgress(value=1.0, bar_style='info', max=1.0), HTML(value='')))"
      ]
     },
     "metadata": {},
     "output_type": "display_data"
    },
    {
     "name": "stdout",
     "output_type": "stream",
     "text": [
      "Accuracy:                                                                                                              \n",
      "0.75                                                                                                                   \n",
      "  5%|███                                                          | 1/20 [03:02<57:40, 182.14s/trial, best loss: -0.75]"
     ]
    },
    {
     "data": {
      "application/vnd.jupyter.widget-view+json": {
       "model_id": "22ed9d3d95104247b75515baf3a18caa",
       "version_major": 2,
       "version_minor": 0
      },
      "text/plain": [
       "HBox(children=(FloatProgress(value=1.0, bar_style='info', max=1.0), HTML(value='')))"
      ]
     },
     "metadata": {},
     "output_type": "display_data"
    },
    {
     "data": {
      "application/vnd.jupyter.widget-view+json": {
       "model_id": "",
       "version_major": 2,
       "version_minor": 0
      },
      "text/plain": [
       "HBox(children=(FloatProgress(value=1.0, bar_style='info', max=1.0), HTML(value='')))"
      ]
     },
     "metadata": {},
     "output_type": "display_data"
    },
    {
     "name": "stdout",
     "output_type": "stream",
     "text": [
      "Accuracy:                                                                                                              \n",
      "0.7783018867924528                                                                                                     \n",
      " 10%|████▌                                        | 2/20 [11:39<1:24:47, 282.63s/trial, best loss: -0.7783018867924528]"
     ]
    },
    {
     "data": {
      "application/vnd.jupyter.widget-view+json": {
       "model_id": "29c568fcc64544159ef5e6e1890c625f",
       "version_major": 2,
       "version_minor": 0
      },
      "text/plain": [
       "HBox(children=(FloatProgress(value=1.0, bar_style='info', max=1.0), HTML(value='')))"
      ]
     },
     "metadata": {},
     "output_type": "display_data"
    },
    {
     "data": {
      "application/vnd.jupyter.widget-view+json": {
       "model_id": "",
       "version_major": 2,
       "version_minor": 0
      },
      "text/plain": [
       "HBox(children=(FloatProgress(value=1.0, bar_style='info', max=1.0), HTML(value='')))"
      ]
     },
     "metadata": {},
     "output_type": "display_data"
    },
    {
     "name": "stdout",
     "output_type": "stream",
     "text": [
      "Accuracy:                                                                                                              \n",
      "0.7688679245283019                                                                                                     \n",
      " 15%|██████▊                                      | 3/20 [20:24<1:40:43, 355.48s/trial, best loss: -0.7783018867924528]"
     ]
    },
    {
     "data": {
      "application/vnd.jupyter.widget-view+json": {
       "model_id": "f3bc45ee35474869a1f43bc5d0d929ab",
       "version_major": 2,
       "version_minor": 0
      },
      "text/plain": [
       "HBox(children=(FloatProgress(value=1.0, bar_style='info', max=1.0), HTML(value='')))"
      ]
     },
     "metadata": {},
     "output_type": "display_data"
    },
    {
     "data": {
      "application/vnd.jupyter.widget-view+json": {
       "model_id": "",
       "version_major": 2,
       "version_minor": 0
      },
      "text/plain": [
       "HBox(children=(FloatProgress(value=1.0, bar_style='info', max=1.0), HTML(value='')))"
      ]
     },
     "metadata": {},
     "output_type": "display_data"
    },
    {
     "name": "stdout",
     "output_type": "stream",
     "text": [
      "Accuracy:                                                                                                              \n",
      "0.6650943396226415                                                                                                     \n",
      " 20%|█████████                                    | 4/20 [23:10<1:19:38, 298.63s/trial, best loss: -0.7783018867924528]"
     ]
    },
    {
     "data": {
      "application/vnd.jupyter.widget-view+json": {
       "model_id": "f50d3d2d82db4c67b686b99f20c93242",
       "version_major": 2,
       "version_minor": 0
      },
      "text/plain": [
       "HBox(children=(FloatProgress(value=1.0, bar_style='info', max=1.0), HTML(value='')))"
      ]
     },
     "metadata": {},
     "output_type": "display_data"
    },
    {
     "data": {
      "application/vnd.jupyter.widget-view+json": {
       "model_id": "",
       "version_major": 2,
       "version_minor": 0
      },
      "text/plain": [
       "HBox(children=(FloatProgress(value=1.0, bar_style='info', max=1.0), HTML(value='')))"
      ]
     },
     "metadata": {},
     "output_type": "display_data"
    },
    {
     "name": "stdout",
     "output_type": "stream",
     "text": [
      "Accuracy:                                                                                                              \n",
      "0.7405660377358491                                                                                                     \n",
      " 25%|███████████▊                                   | 5/20 [24:47<59:32, 238.20s/trial, best loss: -0.7783018867924528]"
     ]
    },
    {
     "data": {
      "application/vnd.jupyter.widget-view+json": {
       "model_id": "6d0f8939388e49968a4f2195bd25fa59",
       "version_major": 2,
       "version_minor": 0
      },
      "text/plain": [
       "HBox(children=(FloatProgress(value=1.0, bar_style='info', max=1.0), HTML(value='')))"
      ]
     },
     "metadata": {},
     "output_type": "display_data"
    },
    {
     "data": {
      "application/vnd.jupyter.widget-view+json": {
       "model_id": "",
       "version_major": 2,
       "version_minor": 0
      },
      "text/plain": [
       "HBox(children=(FloatProgress(value=1.0, bar_style='info', max=1.0), HTML(value='')))"
      ]
     },
     "metadata": {},
     "output_type": "display_data"
    },
    {
     "name": "stdout",
     "output_type": "stream",
     "text": [
      "Accuracy:                                                                                                              \n",
      "0.8066037735849056                                                                                                     \n",
      " 30%|█████████████▌                               | 6/20 [34:08<1:18:09, 334.95s/trial, best loss: -0.8066037735849056]"
     ]
    },
    {
     "data": {
      "application/vnd.jupyter.widget-view+json": {
       "model_id": "b744c0b0b06a4f0faca5ba11a2c62707",
       "version_major": 2,
       "version_minor": 0
      },
      "text/plain": [
       "HBox(children=(FloatProgress(value=1.0, bar_style='info', max=1.0), HTML(value='')))"
      ]
     },
     "metadata": {},
     "output_type": "display_data"
    },
    {
     "data": {
      "application/vnd.jupyter.widget-view+json": {
       "model_id": "",
       "version_major": 2,
       "version_minor": 0
      },
      "text/plain": [
       "HBox(children=(FloatProgress(value=1.0, bar_style='info', max=1.0), HTML(value='')))"
      ]
     },
     "metadata": {},
     "output_type": "display_data"
    },
    {
     "name": "stdout",
     "output_type": "stream",
     "text": [
      "Accuracy:                                                                                                              \n",
      "0.6084905660377359                                                                                                     \n",
      " 35%|███████████████▋                             | 7/20 [42:41<1:24:07, 388.23s/trial, best loss: -0.8066037735849056]"
     ]
    },
    {
     "data": {
      "application/vnd.jupyter.widget-view+json": {
       "model_id": "4269332bea214103bbfd72bdd47f2d4e",
       "version_major": 2,
       "version_minor": 0
      },
      "text/plain": [
       "HBox(children=(FloatProgress(value=1.0, bar_style='info', max=1.0), HTML(value='')))"
      ]
     },
     "metadata": {},
     "output_type": "display_data"
    },
    {
     "data": {
      "application/vnd.jupyter.widget-view+json": {
       "model_id": "",
       "version_major": 2,
       "version_minor": 0
      },
      "text/plain": [
       "HBox(children=(FloatProgress(value=1.0, bar_style='info', max=1.0), HTML(value='')))"
      ]
     },
     "metadata": {},
     "output_type": "display_data"
    },
    {
     "name": "stdout",
     "output_type": "stream",
     "text": [
      "Accuracy:                                                                                                              \n",
      "0.6132075471698113                                                                                                     \n",
      " 40%|██████████████████▊                            | 8/20 [44:12<59:48, 299.05s/trial, best loss: -0.8066037735849056]"
     ]
    },
    {
     "data": {
      "application/vnd.jupyter.widget-view+json": {
       "model_id": "aa42d9f987904a7a90568c9a97a90ecc",
       "version_major": 2,
       "version_minor": 0
      },
      "text/plain": [
       "HBox(children=(FloatProgress(value=1.0, bar_style='info', max=1.0), HTML(value='')))"
      ]
     },
     "metadata": {},
     "output_type": "display_data"
    },
    {
     "data": {
      "application/vnd.jupyter.widget-view+json": {
       "model_id": "",
       "version_major": 2,
       "version_minor": 0
      },
      "text/plain": [
       "HBox(children=(FloatProgress(value=1.0, bar_style='info', max=1.0), HTML(value='')))"
      ]
     },
     "metadata": {},
     "output_type": "display_data"
    },
    {
     "name": "stdout",
     "output_type": "stream",
     "text": [
      "Accuracy:                                                                                                              \n",
      "0.6698113207547169                                                                                                     \n",
      " 45%|█████████████████████▏                         | 9/20 [48:03<51:07, 278.86s/trial, best loss: -0.8066037735849056]"
     ]
    },
    {
     "data": {
      "application/vnd.jupyter.widget-view+json": {
       "model_id": "3276a00b6ae343eeaebbd6adf9d76621",
       "version_major": 2,
       "version_minor": 0
      },
      "text/plain": [
       "HBox(children=(FloatProgress(value=1.0, bar_style='info', max=1.0), HTML(value='')))"
      ]
     },
     "metadata": {},
     "output_type": "display_data"
    },
    {
     "data": {
      "application/vnd.jupyter.widget-view+json": {
       "model_id": "",
       "version_major": 2,
       "version_minor": 0
      },
      "text/plain": [
       "HBox(children=(FloatProgress(value=1.0, bar_style='info', max=1.0), HTML(value='')))"
      ]
     },
     "metadata": {},
     "output_type": "display_data"
    },
    {
     "name": "stdout",
     "output_type": "stream",
     "text": [
      "Accuracy:                                                                                                              \n",
      "0.5094339622641509                                                                                                     \n",
      " 50%|███████████████████████                       | 10/20 [54:40<52:21, 314.15s/trial, best loss: -0.8066037735849056]"
     ]
    },
    {
     "data": {
      "application/vnd.jupyter.widget-view+json": {
       "model_id": "3538e83ca18a4b43bb7d25703adeef93",
       "version_major": 2,
       "version_minor": 0
      },
      "text/plain": [
       "HBox(children=(FloatProgress(value=1.0, bar_style='info', max=1.0), HTML(value='')))"
      ]
     },
     "metadata": {},
     "output_type": "display_data"
    },
    {
     "data": {
      "application/vnd.jupyter.widget-view+json": {
       "model_id": "",
       "version_major": 2,
       "version_minor": 0
      },
      "text/plain": [
       "HBox(children=(FloatProgress(value=1.0, bar_style='info', max=1.0), HTML(value='')))"
      ]
     },
     "metadata": {},
     "output_type": "display_data"
    },
    {
     "name": "stdout",
     "output_type": "stream",
     "text": [
      "Accuracy:                                                                                                              \n",
      "0.6745283018867925                                                                                                     \n",
      " 55%|█████████████████████████▎                    | 11/20 [58:50<44:15, 295.09s/trial, best loss: -0.8066037735849056]"
     ]
    },
    {
     "data": {
      "application/vnd.jupyter.widget-view+json": {
       "model_id": "b51b2ce2c15346c7a2fae9344a847b1a",
       "version_major": 2,
       "version_minor": 0
      },
      "text/plain": [
       "HBox(children=(FloatProgress(value=1.0, bar_style='info', max=1.0), HTML(value='')))"
      ]
     },
     "metadata": {},
     "output_type": "display_data"
    },
    {
     "data": {
      "application/vnd.jupyter.widget-view+json": {
       "model_id": "",
       "version_major": 2,
       "version_minor": 0
      },
      "text/plain": [
       "HBox(children=(FloatProgress(value=1.0, bar_style='info', max=1.0), HTML(value='')))"
      ]
     },
     "metadata": {},
     "output_type": "display_data"
    },
    {
     "name": "stdout",
     "output_type": "stream",
     "text": [
      "Accuracy:                                                                                                              \n",
      "0.7971698113207547                                                                                                     \n",
      " 60%|██████████████████████████▍                 | 12/20 [1:01:35<34:08, 256.00s/trial, best loss: -0.8066037735849056]"
     ]
    },
    {
     "data": {
      "application/vnd.jupyter.widget-view+json": {
       "model_id": "16e2e8d071e64890912a578667033911",
       "version_major": 2,
       "version_minor": 0
      },
      "text/plain": [
       "HBox(children=(FloatProgress(value=1.0, bar_style='info', max=1.0), HTML(value='')))"
      ]
     },
     "metadata": {},
     "output_type": "display_data"
    },
    {
     "data": {
      "application/vnd.jupyter.widget-view+json": {
       "model_id": "",
       "version_major": 2,
       "version_minor": 0
      },
      "text/plain": [
       "HBox(children=(FloatProgress(value=1.0, bar_style='info', max=1.0), HTML(value='')))"
      ]
     },
     "metadata": {},
     "output_type": "display_data"
    },
    {
     "name": "stdout",
     "output_type": "stream",
     "text": [
      "Accuracy:                                                                                                              \n",
      "0.6792452830188679                                                                                                     \n",
      " 65%|████████████████████████████▌               | 13/20 [1:03:40<25:16, 216.66s/trial, best loss: -0.8066037735849056]"
     ]
    },
    {
     "data": {
      "application/vnd.jupyter.widget-view+json": {
       "model_id": "a75a47f2ccb94ca0a4c7fa19b72fff8a",
       "version_major": 2,
       "version_minor": 0
      },
      "text/plain": [
       "HBox(children=(FloatProgress(value=1.0, bar_style='info', max=1.0), HTML(value='')))"
      ]
     },
     "metadata": {},
     "output_type": "display_data"
    },
    {
     "data": {
      "application/vnd.jupyter.widget-view+json": {
       "model_id": "",
       "version_major": 2,
       "version_minor": 0
      },
      "text/plain": [
       "HBox(children=(FloatProgress(value=1.0, bar_style='info', max=1.0), HTML(value='')))"
      ]
     },
     "metadata": {},
     "output_type": "display_data"
    },
    {
     "name": "stdout",
     "output_type": "stream",
     "text": [
      "Accuracy:                                                                                                              \n",
      "0.7216981132075472                                                                                                     \n",
      " 70%|██████████████████████████████▊             | 14/20 [1:08:31<23:53, 238.98s/trial, best loss: -0.8066037735849056]"
     ]
    },
    {
     "data": {
      "application/vnd.jupyter.widget-view+json": {
       "model_id": "4837d96058c6413b9a975fd9016e1e5c",
       "version_major": 2,
       "version_minor": 0
      },
      "text/plain": [
       "HBox(children=(FloatProgress(value=1.0, bar_style='info', max=1.0), HTML(value='')))"
      ]
     },
     "metadata": {},
     "output_type": "display_data"
    },
    {
     "data": {
      "application/vnd.jupyter.widget-view+json": {
       "model_id": "",
       "version_major": 2,
       "version_minor": 0
      },
      "text/plain": [
       "HBox(children=(FloatProgress(value=1.0, bar_style='info', max=1.0), HTML(value='')))"
      ]
     },
     "metadata": {},
     "output_type": "display_data"
    },
    {
     "name": "stdout",
     "output_type": "stream",
     "text": [
      "Accuracy:                                                                                                              \n",
      "0.6745283018867925                                                                                                     \n",
      " 75%|█████████████████████████████████           | 15/20 [1:11:03<17:43, 212.70s/trial, best loss: -0.8066037735849056]"
     ]
    },
    {
     "data": {
      "application/vnd.jupyter.widget-view+json": {
       "model_id": "a17fdb6b1dd34b41a7e05a968ce4ceb9",
       "version_major": 2,
       "version_minor": 0
      },
      "text/plain": [
       "HBox(children=(FloatProgress(value=1.0, bar_style='info', max=1.0), HTML(value='')))"
      ]
     },
     "metadata": {},
     "output_type": "display_data"
    },
    {
     "data": {
      "application/vnd.jupyter.widget-view+json": {
       "model_id": "",
       "version_major": 2,
       "version_minor": 0
      },
      "text/plain": [
       "HBox(children=(FloatProgress(value=1.0, bar_style='info', max=1.0), HTML(value='')))"
      ]
     },
     "metadata": {},
     "output_type": "display_data"
    },
    {
     "name": "stdout",
     "output_type": "stream",
     "text": [
      "Accuracy:                                                                                                              \n",
      "0.6132075471698113                                                                                                     \n",
      " 80%|███████████████████████████████████▏        | 16/20 [1:15:30<15:16, 229.03s/trial, best loss: -0.8066037735849056]"
     ]
    },
    {
     "data": {
      "application/vnd.jupyter.widget-view+json": {
       "model_id": "7f2835c3d731471687648cdc07aeb079",
       "version_major": 2,
       "version_minor": 0
      },
      "text/plain": [
       "HBox(children=(FloatProgress(value=1.0, bar_style='info', max=1.0), HTML(value='')))"
      ]
     },
     "metadata": {},
     "output_type": "display_data"
    },
    {
     "data": {
      "application/vnd.jupyter.widget-view+json": {
       "model_id": "",
       "version_major": 2,
       "version_minor": 0
      },
      "text/plain": [
       "HBox(children=(FloatProgress(value=1.0, bar_style='info', max=1.0), HTML(value='')))"
      ]
     },
     "metadata": {},
     "output_type": "display_data"
    },
    {
     "name": "stdout",
     "output_type": "stream",
     "text": [
      "WARNING:tensorflow:Method (on_train_batch_end) is slow compared to the batch update (0.232001). Check your callbacks.\n",
      "Accuracy:                                                                                                              \n",
      "0.7169811320754716                                                                                                     \n",
      " 85%|█████████████████████████████████████▍      | 17/20 [1:20:05<12:08, 242.93s/trial, best loss: -0.8066037735849056]"
     ]
    },
    {
     "data": {
      "application/vnd.jupyter.widget-view+json": {
       "model_id": "c2231578d74445478e89b66b546fb224",
       "version_major": 2,
       "version_minor": 0
      },
      "text/plain": [
       "HBox(children=(FloatProgress(value=1.0, bar_style='info', max=1.0), HTML(value='')))"
      ]
     },
     "metadata": {},
     "output_type": "display_data"
    },
    {
     "data": {
      "application/vnd.jupyter.widget-view+json": {
       "model_id": "",
       "version_major": 2,
       "version_minor": 0
      },
      "text/plain": [
       "HBox(children=(FloatProgress(value=1.0, bar_style='info', max=1.0), HTML(value='')))"
      ]
     },
     "metadata": {},
     "output_type": "display_data"
    },
    {
     "name": "stdout",
     "output_type": "stream",
     "text": [
      "Accuracy:                                                                                                              \n",
      "0.7452830188679245                                                                                                     \n",
      " 90%|███████████████████████████████████████▌    | 18/20 [1:25:54<09:09, 274.66s/trial, best loss: -0.8066037735849056]"
     ]
    },
    {
     "data": {
      "application/vnd.jupyter.widget-view+json": {
       "model_id": "d88bbed3335942cb8528ee4715bea650",
       "version_major": 2,
       "version_minor": 0
      },
      "text/plain": [
       "HBox(children=(FloatProgress(value=1.0, bar_style='info', max=1.0), HTML(value='')))"
      ]
     },
     "metadata": {},
     "output_type": "display_data"
    },
    {
     "data": {
      "application/vnd.jupyter.widget-view+json": {
       "model_id": "",
       "version_major": 2,
       "version_minor": 0
      },
      "text/plain": [
       "HBox(children=(FloatProgress(value=1.0, bar_style='info', max=1.0), HTML(value='')))"
      ]
     },
     "metadata": {},
     "output_type": "display_data"
    },
    {
     "name": "stdout",
     "output_type": "stream",
     "text": [
      "Accuracy:                                                                                                              \n",
      "0.7075471698113207                                                                                                     \n",
      " 95%|█████████████████████████████████████████▊  | 19/20 [1:30:10<04:29, 269.17s/trial, best loss: -0.8066037735849056]"
     ]
    },
    {
     "data": {
      "application/vnd.jupyter.widget-view+json": {
       "model_id": "c5ef5551a3554a1a884b80898d3d3987",
       "version_major": 2,
       "version_minor": 0
      },
      "text/plain": [
       "HBox(children=(FloatProgress(value=1.0, bar_style='info', max=1.0), HTML(value='')))"
      ]
     },
     "metadata": {},
     "output_type": "display_data"
    },
    {
     "data": {
      "application/vnd.jupyter.widget-view+json": {
       "model_id": "",
       "version_major": 2,
       "version_minor": 0
      },
      "text/plain": [
       "HBox(children=(FloatProgress(value=1.0, bar_style='info', max=1.0), HTML(value='')))"
      ]
     },
     "metadata": {},
     "output_type": "display_data"
    },
    {
     "name": "stdout",
     "output_type": "stream",
     "text": [
      "Accuracy:                                                                                                              \n",
      "0.7264150943396226                                                                                                     \n",
      "100%|████████████████████████████████████████████| 20/20 [1:33:54<00:00, 281.73s/trial, best loss: -0.8066037735849056]\n",
      "best:  {'batchSize': 0, 'dropout1': 0.5420313649456072, 'learnRate1': 2, 'nbEpochs': 3, 'poolSize1': 1, 'poolSize2': 1, 'poolSize3': 1, 'poolSize4': 0, 'poolSize5': 0, 'units1': 4, 'units2': 2, 'units3': 2, 'units4': 4, 'units5': 1, 'units6': 4}\n"
     ]
    }
   ],
   "source": [
    "from tqdm.keras import TqdmCallback\n",
    "\n",
    "def f_nn(params):\n",
    "    img = layers.Input(shape=img_shape)\n",
    "\n",
    "    conv1 = layers.Conv2D(params['units1'], (params['poolSize1'], params['poolSize1']), padding='same', activation='relu', strides=5)(img)\n",
    "    bn1 = layers.BatchNormalization()(conv1)\n",
    "    maxPooling1 = layers.MaxPooling2D(padding='same')(bn1)\n",
    "\n",
    "    conv2 = layers.Conv2D(params['units2'], (params['poolSize2'], params['poolSize2']), padding='same', activation='elu', strides=5)(maxPooling1)\n",
    "    bn2 = layers.BatchNormalization()(conv2)\n",
    "    maxPooling2 = layers.MaxPooling2D(padding='same')(bn2)\n",
    "\n",
    "    conv3 = layers.Conv2D(params['units3'], (params['poolSize3'], params['poolSize3']), padding='same', activation='elu', strides=3)(maxPooling2)\n",
    "    bn3 = layers.BatchNormalization()(conv3)\n",
    "    maxPooling3 = layers.MaxPooling2D(padding='same')(bn3)\n",
    "\n",
    "    conv4 = layers.Conv2D(params['units4'], (params['poolSize4'], params['poolSize4']), padding='same', activation='elu', strides=3)(maxPooling3)\n",
    "    bn4 = layers.BatchNormalization()(conv4)\n",
    "    maxPooling4 = layers.MaxPooling2D(padding='same')(bn4)\n",
    "\n",
    "    conv5 = layers.Conv2D(params['units5'], (params['poolSize5'], params['poolSize5']), padding='same', activation='elu', strides=3)(maxPooling4)\n",
    "    maxPooling5 = layers.MaxPooling2D(padding='same')(conv5)\n",
    "\n",
    "    flatten = layers.Flatten()(maxPooling5)\n",
    "\n",
    "    dense1 = layers.Dense(params['units6'], activation = \"relu\")(flatten)\n",
    "    drop2 = layers.Dropout(params['dropout1'])(dense1)\n",
    "    res = layers.Dense(1, activation='sigmoid')(drop2)\n",
    "\n",
    "    model = Model(img, res)\n",
    "    opt = tf.keras.optimizers.RMSprop(learning_rate=params['learnRate1'])\n",
    "    model.compile(optimizer = opt, loss = 'binary_crossentropy', metrics = ['accuracy'])\n",
    "    \n",
    "    model.fit(x, y, batch_size = int(params['batchSize']), epochs = params['nbEpochs'], verbose=0, callbacks=[TqdmCallback(verbose=1)])\n",
    "    \n",
    "    yPred = model.predict(validation)\n",
    "    yPred[yPred>=0.5] = 1\n",
    "    yPred[yPred<0.5] = 0\n",
    "    yPred = yPred.astype(int)\n",
    "    yPred = yPred.flatten()\n",
    "    \n",
    "    correct = 0\n",
    "    for i in range (212):\n",
    "        if (yPred[i]==yValidation[i]):\n",
    "            correct+=1\n",
    "    acc = correct/212\n",
    "    \n",
    "    print('Accuracy:', acc)\n",
    "    sys.stdout.flush() \n",
    "    return {'loss': -acc, 'status': STATUS_OK}\n",
    "\n",
    "trials = Trials()\n",
    "best = fmin(f_nn, space, algo=tpe.suggest, max_evals=20, trials=trials)\n",
    "print('best: ', best)"
   ]
  },
  {
   "cell_type": "code",
   "execution_count": null,
   "metadata": {},
   "outputs": [],
   "source": [
    "#Acc1: 0.9316 / 0.6650943396226415"
   ]
  }
 ],
 "metadata": {
  "kernelspec": {
   "display_name": "Python 3",
   "language": "python",
   "name": "python3"
  },
  "language_info": {
   "codemirror_mode": {
    "name": "ipython",
    "version": 3
   },
   "file_extension": ".py",
   "mimetype": "text/x-python",
   "name": "python",
   "nbconvert_exporter": "python",
   "pygments_lexer": "ipython3",
   "version": "3.8.4"
  }
 },
 "nbformat": 4,
 "nbformat_minor": 4
}
